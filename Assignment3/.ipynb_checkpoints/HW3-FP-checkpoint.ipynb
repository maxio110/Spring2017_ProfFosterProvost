{
 "cells": [
  {
   "cell_type": "markdown",
   "metadata": {},
   "source": [
    "# Introduction to Data Science\n",
    "## Homework 3 "
   ]
  },
  {
   "cell_type": "markdown",
   "metadata": {},
   "source": [
    "Student Name: Xiang Wang\n",
    "\n",
    "Student Netid: xw1173\n",
    "***"
   ]
  },
  {
   "cell_type": "markdown",
   "metadata": {},
   "source": [
    "### Part 1\n",
    "1\\. Label each case as describing either data mining `(DM)`, or the use of the results of data mining `(USE)`.  [Replace `(ANS)` below.]"
   ]
  },
  {
   "cell_type": "markdown",
   "metadata": {},
   "source": [
    "a) `(USE)` Choose customers who are most likely to respond to an on-line ad.\n",
    "\n",
    "b) `(DM)` Discover rules that indicate when an account has been defrauded.\n",
    "\n",
    "c) `(DM)` Find patterns indicating what customer behavior is more likely to lead to response to an on-line ad.\n",
    "\n",
    "d) `(USE)` Estimate probability of default for a credit application.\n",
    "\n",
    "e) `(USE)` Predict whether a customer is pregnant"
   ]
  },
  {
   "cell_type": "markdown",
   "metadata": {},
   "source": [
    "2\\. Plumbing Inc. has been selling plumbing supplies for the last 20 years. The owner, Joe, decides that next year it is finally time to diversify by adding gardening tools to his products. Having had success using customer data to build predictive models to guide direct mail campaigns for special plumbing offers, he considers that data mining could help him to identify a subset of customers who should be good prospects for his new set of products. Is Joe ready to solve this as a supervised learning problem? What would you suggest as the target variable?  Be precise. Is there anything else that you would recommend that Joe do to achieve his business goal?"
   ]
  },
  {
   "cell_type": "markdown",
   "metadata": {},
   "source": [
    "Answer:\n",
    "    I think Joe may not be ready to solve it yet if he does not have the labled training data, while I do think he may have clients' related features like :\n",
    "    1. Different kinds of plumbing supplies that are related to garden?\n",
    "    2. Location / Acceptable price level / Total purchase amount / rate of taking mail offer etc.\n",
    "    yet he may miss the training data on the target variable, which may be the likelyhood of buying gardening tools (through mailing offers maybe). \n",
    "    \n",
    "    I would recomment him to first do some data preparation by mailing special gardening tools offer(which should have product good enough and price low enough to attract any client having garden using gardening tools) to a subset of his past clients and collect the result on which clients do take the offer as labeled data.\n",
    "    "
   ]
  },
  {
   "cell_type": "markdown",
   "metadata": {},
   "source": [
    "### Part 2\n",
    "This is a hands-on task where we build a tree-structured predictive model as discussed in class and in the book. For this part, we will be using the data in `data/cell2cell_data_80_percent.csv`.\n",
    "\n",
    "These historical data consist of 31,892 customers: 15,855 customers that churned (i.e., left the company) and 16,036 that did not churn (see the `\"churndep\"` variable). Here are the data set's 11 attributes describing the customers: \n",
    "\n",
    "```\n",
    "Pos.  Var. Name  Var. Description\n",
    "----- ---------- --------------------------------------------------------------\n",
    "1     revenue    Mean monthly revenue in dollars\n",
    "2     outcalls   Mean number of outbound voice calls\n",
    "3     incalls    Mean number of inbound voice calls\n",
    "4     months     Months in Service\n",
    "5     eqpdays    Number of days the customer has had his/her current equipment\n",
    "6     webcap     Handset is web capable\n",
    "7     marryyes   Married (1=Yes; 0=No)\n",
    "8     travel     Has traveled to non-US country (1=Yes; 0=No)\n",
    "9     pcown      Owns a personal computer (1=Yes; 0=No)\n",
    "10    creditcd   Possesses a credit card (1=Yes; 0=No)\n",
    "11    retcalls   Number of calls previously made to retention team\n",
    "```\n",
    "\n",
    "The 12th column, the target variable `\"churndep\"`, equals 1 if the customer churned, and 0 otherwise. \n",
    "\n",
    "\n",
    "**Don't forget to exclude the target variable `\"churndep\"` when fitting your models. You don't want to include the target when fitting!!!**"
   ]
  },
  {
   "cell_type": "markdown",
   "metadata": {},
   "source": [
    "1\\. Load the data into a pandas `DataFrame()`."
   ]
  },
  {
   "cell_type": "code",
   "execution_count": 1,
   "metadata": {
    "collapsed": false
   },
   "outputs": [
    {
     "data": {
      "text/plain": [
       "<bound method NDFrame.head of        revenue  outcalls  incalls  months  eqpdays  webcap  marryyes  travel  \\\n",
       "0        83.53     20.00     1.00      31      745       1         0       0   \n",
       "1        29.99      0.00     0.00      52     1441       0         0       0   \n",
       "2        37.75      2.67     0.00      25      572       0         0       0   \n",
       "3         5.25      0.00     0.00      45     1354       0         0       0   \n",
       "4        42.71      8.67     0.00      27      224       1         0       0   \n",
       "5        53.69     15.00     2.33      23      267       1         0       0   \n",
       "6        33.66      8.33     0.00      31      933       1         0       0   \n",
       "7        52.56     80.00    31.67      33      402       1         0       0   \n",
       "8        22.50      8.67     2.67      37      243       1         0       0   \n",
       "9        98.47     24.67     3.33      35       13       0         0       1   \n",
       "10        7.82      0.00     0.00      24      561       0         0       0   \n",
       "11       25.14     15.00     1.00      25      743       1         0       0   \n",
       "12      131.09     76.67     7.00      25      740       1         1       0   \n",
       "13       10.00      0.00     0.00      54     1636       0         1       0   \n",
       "14        5.00      0.00     0.00      53     1584       0         1       1   \n",
       "15       30.69      1.33     0.00      25      709       1         0       0   \n",
       "16       69.11     18.00     2.67      48     1430       0         0       0   \n",
       "17       40.07      3.67     0.00      42     1278       0         0       0   \n",
       "18       51.22      1.00     0.33      44     1346       0         1       0   \n",
       "19       84.92     67.00     0.33      15      451       1         1       0   \n",
       "20       12.21      0.00     0.00      35      540       0         1       0   \n",
       "21      170.92     35.00     0.33      10      302       1         1       0   \n",
       "22      199.00     88.67    40.00      19      368       1         0       0   \n",
       "23       16.14      0.00     0.00      44     1324       0         0       0   \n",
       "24       61.72     19.33    39.00      16      464       1         0       0   \n",
       "25      150.00      1.67     1.00      11      295       1         0       0   \n",
       "26      113.78     14.00     0.00      12      341       1         0       0   \n",
       "27       71.38      0.33     0.00      27      345       0         1       0   \n",
       "28       89.58     18.67    12.00      14      417       1         0       0   \n",
       "29       37.49     18.00    33.67      32      718       1         1       0   \n",
       "...        ...       ...      ...     ...      ...     ...       ...     ...   \n",
       "31861    55.51     20.33     1.67      54       45       1         0       0   \n",
       "31862   108.15     29.33    76.67      34        5       1         0       0   \n",
       "31863    87.52     72.00    30.67      55       99       1         0       0   \n",
       "31864    10.70      7.00    10.67      51       80       1         1       0   \n",
       "31865    39.99      2.67     0.67      53       37       1         1       0   \n",
       "31866    45.85     11.33     0.67      52       11       1         0       0   \n",
       "31867    36.39      4.67     0.00      51        6       1         1       0   \n",
       "31868    76.47     67.00    32.67      48       25       1         1       0   \n",
       "31869    45.95     23.33    73.33      47       62       1         0       0   \n",
       "31870    82.18    188.33   116.33      31       81       1         0       0   \n",
       "31871   140.03    239.00   190.67      24       66       1         0       0   \n",
       "31872    39.54     38.00    26.67      48       26       1         1       0   \n",
       "31873    83.58     34.00    21.33      54       16       1         1       0   \n",
       "31874    55.79     11.67    20.00      57       65       1         0       0   \n",
       "31875   157.86    286.00   282.67      20      262       1         0       0   \n",
       "31876   107.60    217.33   113.33      45      157       1         0       0   \n",
       "31877   107.42    119.33   175.00      42      175       1         0       0   \n",
       "31878   291.26    389.67   173.00      48      126       1         0       0   \n",
       "31879   110.33    389.00   218.00      23       92       1         0       0   \n",
       "31880    51.99    164.00    48.67      49        3       1         0       0   \n",
       "31881     1.63      0.00     0.00      59       10       1         1       1   \n",
       "31882    72.96     60.00    86.00      47       68       1         0       0   \n",
       "31883   226.52     74.67   304.00      17      132       1         0       0   \n",
       "31884    99.15    251.67   174.33      28       91       1         1       0   \n",
       "31885   110.73    224.67   184.00      47      267       1         1       0   \n",
       "31886   185.30    178.67   171.00      41       44       1         1       0   \n",
       "31887   167.59    141.33   283.67      17       28       1         0       0   \n",
       "31888   151.49    128.67   175.33      47        9       1         1       0   \n",
       "31889   125.42     90.00   336.67      18       79       1         0       0   \n",
       "31890   206.67    396.00   404.00      14      126       1         0       0   \n",
       "\n",
       "       pcown  creditcd  retcalls  churndep  \n",
       "0          0         0         4         1  \n",
       "1          1         1         3         1  \n",
       "2          1         1         3         1  \n",
       "3          0         0         2         1  \n",
       "4          0         0         3         1  \n",
       "5          0         1         3         1  \n",
       "6          0         0         2         1  \n",
       "7          0         1         3         1  \n",
       "8          0         0         3         1  \n",
       "9          1         1         3         1  \n",
       "10         0         0         2         1  \n",
       "11         0         0         2         1  \n",
       "12         0         1         2         1  \n",
       "13         0         1         1         1  \n",
       "14         1         1         1         1  \n",
       "15         0         1         2         1  \n",
       "16         0         1         1         1  \n",
       "17         0         0         1         1  \n",
       "18         0         1         1         1  \n",
       "19         0         1         2         1  \n",
       "20         0         1         2         1  \n",
       "21         0         1         2         1  \n",
       "22         0         0         2         1  \n",
       "23         0         1         1         1  \n",
       "24         0         0         2         1  \n",
       "25         1         1         2         1  \n",
       "26         0         1         2         1  \n",
       "27         0         1         2         1  \n",
       "28         0         1         2         1  \n",
       "29         0         1         2         1  \n",
       "...      ...       ...       ...       ...  \n",
       "31861      0         1         0         0  \n",
       "31862      1         1         0         0  \n",
       "31863      0         1         0         0  \n",
       "31864      1         1         0         0  \n",
       "31865      0         1         0         0  \n",
       "31866      0         1         0         0  \n",
       "31867      1         1         0         0  \n",
       "31868      0         1         0         0  \n",
       "31869      0         0         0         0  \n",
       "31870      0         1         0         0  \n",
       "31871      0         0         0         0  \n",
       "31872      0         1         0         0  \n",
       "31873      0         1         0         0  \n",
       "31874      0         1         0         0  \n",
       "31875      0         0         0         0  \n",
       "31876      0         1         0         0  \n",
       "31877      0         0         0         0  \n",
       "31878      0         1         0         0  \n",
       "31879      0         0         0         0  \n",
       "31880      0         1         0         0  \n",
       "31881      1         1         0         0  \n",
       "31882      0         1         0         0  \n",
       "31883      0         0         0         0  \n",
       "31884      0         1         0         0  \n",
       "31885      0         1         0         0  \n",
       "31886      1         1         0         0  \n",
       "31887      0         0         0         0  \n",
       "31888      0         1         0         0  \n",
       "31889      0         0         0         0  \n",
       "31890      0         0         0         0  \n",
       "\n",
       "[31891 rows x 12 columns]>"
      ]
     },
     "execution_count": 1,
     "metadata": {},
     "output_type": "execute_result"
    }
   ],
   "source": [
    "import pandas as pd\n",
    "\n",
    "data = pd.read_csv('data/cell2cell_data_80_percent.csv')\n",
    "data.head"
   ]
  },
  {
   "cell_type": "markdown",
   "metadata": {},
   "source": [
    "2\\. Using the following two functions for Entropy and Information Gain (don't forget to run this cell!), figure out what is the maximum information gain for each feature. Make a bar plot with feature names along the x-axis and maximum information gain on the y-axis. Which feature gives the largest information gain? Don't forget that some of the features are binary."
   ]
  },
  {
   "cell_type": "code",
   "execution_count": 2,
   "metadata": {
    "collapsed": true
   },
   "outputs": [],
   "source": [
    "import numpy as np\n",
    "import math\n",
    "\n",
    "def entropy(target):\n",
    "    '''\n",
    "        Computes the entropy for a set of instances (that's needed is the values of the target variable)\n",
    "        Presumes the target values are class indexes -- integers\n",
    "        Thus, target is an array of integers\n",
    "    '''\n",
    "    # Get the number of instances\n",
    "    n = len(target)\n",
    "    # Count how frequently each unique target value occurs using the numpy function \n",
    "    counts = np.bincount(target).astype(float)\n",
    "    # Initialize entropy\n",
    "    entropy = 0\n",
    "    \n",
    "    # Otherwise, for each possible value, update entropy; use zero for 0 log 0\n",
    "    for count in counts:\n",
    "        if count == 0:\n",
    "            entropy += 0\n",
    "        else:\n",
    "            entropy += math.log(count/n, 2) * count/n\n",
    "    # Return entropy\n",
    "    return -1 * entropy\n",
    "\n",
    "\n",
    "def information_gain(feature, threshold, target):\n",
    "    '''\n",
    "    This function takes three things:\n",
    "    feature - A list of all the values this feature takes on, in some instance order, e.g. data['revenue']\n",
    "    threshold - A number at which to threshold a continuous variable, e.g. 1.2\n",
    "    target - A list of all the target values, in the same order as feature, e.g. data['churndep']\n",
    "    '''\n",
    "    # Using numpy arrays makes this slightly easier\n",
    "    target = np.array(target)\n",
    "    feature = np.array(feature)\n",
    "    # Record if each feature value is above the threshold\n",
    "    feature = (feature <= threshold)\n",
    "    # Initialize information gain with the parent entropy\n",
    "    ig = entropy(target)\n",
    "    # For each side of the threshold, update the information gain\n",
    "    for level, count in zip([0, 1], np.bincount(feature).astype(float)):\n",
    "        ig -= count/len(feature) * entropy(target[feature == level])\n",
    "    # Return information gain\n",
    "    return ig\n"
   ]
  },
  {
   "cell_type": "code",
   "execution_count": 3,
   "metadata": {
    "collapsed": false
   },
   "outputs": [
    {
     "data": {
      "image/png": "[encoded data removed]",
      "text/plain": [
       "<matplotlib.figure.Figure at 0x7f823a44aef0>"
      ]
     },
     "metadata": {},
     "output_type": "display_data"
    }
   ],
   "source": [
    "import matplotlib.pyplot as plt\n",
    "%matplotlib inline\n",
    "\n",
    "features = []\n",
    "thresholds = []\n",
    "igs = []\n",
    "isBinary = set([\"marryyes\", \"travel\", \"pcown\", \"creditcd\", \"webcap\"])\n",
    "target = data['churndep']\n",
    "for feature in data.columns:\n",
    "    if feature == 'churndep':\n",
    "        continue\n",
    "    features.append(feature)\n",
    "    fValue = data[feature]\n",
    "    minValue = fValue.min()\n",
    "    maxValue = fValue.max()\n",
    "    ig = 0\n",
    "    threshold = 0\n",
    "    if feature in isBinary:\n",
    "        # consider two value\n",
    "        ig0 = information_gain(fValue, minValue, target)\n",
    "        ig1 = information_gain(fValue, maxValue, target)\n",
    "        if ig0 > ig1:\n",
    "            ig = ig0\n",
    "            threshold = minValue\n",
    "        else:\n",
    "            ig = ig1\n",
    "            threshold = maxValue\n",
    "    else:\n",
    "        for value in (minValue, maxValue + 0.01, 0.01):\n",
    "            ig0 = information_gain(fValue, value, target)\n",
    "            if ig0 > ig:\n",
    "                ig = ig0\n",
    "                threshold = value\n",
    "    igs.append(ig)\n",
    "    thresholds.append(threshold)\n",
    "\n",
    "# Use the lists we created to plot\n",
    "\n",
    "plt.bar(range(len(features)), igs)\n",
    "plt.xticks(range(len(features)), features, rotation=70)\n",
    "plt.show()\n"
   ]
  },
  {
   "cell_type": "markdown",
   "metadata": {},
   "source": [
    "3\\. Is the relationship between the top 3 most important features negative or positive? If your boss asked you to \"explain the top 3 drivers of churn,\" how would you interpret the relationship between these 3 features and the churn outcome that you find in these results?  \n",
    "\n",
    "What \"real-life\" connection can you draw between each variable and churn?\n"
   ]
  },
  {
   "cell_type": "code",
   "execution_count": 6,
   "metadata": {
    "collapsed": false
   },
   "outputs": [
    {
     "ename": "NameError",
     "evalue": "name 'featuresToCheck' is not defined",
     "output_type": "error",
     "traceback": [
      "\u001b[0;31m---------------------------------------------------------------------------\u001b[0m",
      "\u001b[0;31mNameError\u001b[0m                                 Traceback (most recent call last)",
      "\u001b[0;32m<ipython-input-6-a27e92beda70>\u001b[0m in \u001b[0;36m<module>\u001b[0;34m()\u001b[0m\n\u001b[1;32m      4\u001b[0m \u001b[0mnum_users\u001b[0m \u001b[0;34m=\u001b[0m \u001b[0mlen\u001b[0m\u001b[0;34m(\u001b[0m\u001b[0mdata\u001b[0m\u001b[0;34m.\u001b[0m\u001b[0mindex\u001b[0m\u001b[0;34m)\u001b[0m\u001b[0;34m\u001b[0m\u001b[0m\n\u001b[1;32m      5\u001b[0m \u001b[0;34m\u001b[0m\u001b[0m\n\u001b[0;32m----> 6\u001b[0;31m \u001b[0;32mfor\u001b[0m \u001b[0mfeature\u001b[0m \u001b[0;32min\u001b[0m \u001b[0mfeaturesToCheck\u001b[0m\u001b[0;34m:\u001b[0m\u001b[0;34m\u001b[0m\u001b[0m\n\u001b[0m\u001b[1;32m      7\u001b[0m     \u001b[0mindex\u001b[0m \u001b[0;34m=\u001b[0m \u001b[0mfeatures\u001b[0m\u001b[0;34m.\u001b[0m\u001b[0mindex\u001b[0m\u001b[0;34m(\u001b[0m\u001b[0mfeature\u001b[0m\u001b[0;34m)\u001b[0m\u001b[0;34m\u001b[0m\u001b[0m\n\u001b[1;32m      8\u001b[0m     \u001b[0mprint\u001b[0m\u001b[0;34m(\u001b[0m\u001b[0mindex\u001b[0m\u001b[0;34m)\u001b[0m\u001b[0;34m\u001b[0m\u001b[0m\n",
      "\u001b[0;31mNameError\u001b[0m: name 'featuresToCheck' is not defined"
     ]
    }
   ],
   "source": [
    "import matplotlib.pylab as plt\n",
    "\n",
    "featuresToCheck = [\"webcap\", \"retcalls\", \"incalls\"]\n",
    "num_users = len(data.index)\n",
    "\n",
    "for feature in featuresToCheck:\n",
    "    index = features.index(feature)\n",
    "    print(index)\n",
    "\n"
   ]
  },
  {
   "cell_type": "markdown",
   "metadata": {},
   "source": [
    "4\\. Now build and fit a tree-structured model using `DecisionTreeClassifier()` [(manual page)](http://scikit-learn.org/stable/modules/generated/sklearn.tree.DecisionTreeClassifier.html) using the 11 attributes to **predict the `\"churndep\"` target** variable. Make sure to use `criterion='entropy'` when instantiating an instance of `DecisionTreeClassifier()`.  For this assignment, use a moderately shallow tree (e.g., `max_depth=3`). For all other settings you should use the default options (this means you don't have to set anything else).  See the examples from the class notebooks. **Create this model in a variable called: \"tree_model\"**\n",
    "\n",
    "**Remember, don't forget to exclude the target variable `\"churndep\"` when fitting your models. You don't want to fit on the target!!!**"
   ]
  },
  {
   "cell_type": "code",
   "execution_count": 5,
   "metadata": {
    "collapsed": false
   },
   "outputs": [
    {
     "ename": "SyntaxError",
     "evalue": "invalid syntax (<ipython-input-5-bc8da97ad461>, line 7)",
     "output_type": "error",
     "traceback": [
      "\u001b[0;36m  File \u001b[0;32m\"<ipython-input-5-bc8da97ad461>\"\u001b[0;36m, line \u001b[0;32m7\u001b[0m\n\u001b[0;31m    tree_model =\u001b[0m\n\u001b[0m                 ^\u001b[0m\n\u001b[0;31mSyntaxError\u001b[0m\u001b[0;31m:\u001b[0m invalid syntax\n"
     ]
    }
   ],
   "source": [
    "import sklearn\n",
    "from sklearn.tree import DecisionTreeClassifier\n",
    "from sklearn import tree\n",
    "\n",
    "\n",
    "\n",
    "tree_model = \n"
   ]
  },
  {
   "cell_type": "markdown",
   "metadata": {},
   "source": [
    "5\\. Now visualize your tree structure.  Would the data-driven model lead you to change or update any of your interpretations of the relationships between the variables and churn?\n",
    "\n",
    "(Recall that we visualized a tree in class.  To use that code, you'll need some libraries and the directory you are working in should have an \"images\" subdirectory, as that is where the tree image is stored by the code.  Also, it doesn't work well to visualize a huge tree.)"
   ]
  },
  {
   "cell_type": "code",
   "execution_count": null,
   "metadata": {
    "collapsed": false
   },
   "outputs": [],
   "source": [
    "import os\n",
    "from IPython.display import Image\n",
    "\n",
    "# A function that gives a visual representation of the decision tree\n",
    "def Decision_Tree_Image(decision_tree, feature_names, name=\"temp\"):\n",
    "    # Export our decision tree to graphviz format\n",
    "    dot_file = tree.export_graphviz(decision_tree.tree_, out_file='images/' + name + '.dot', feature_names=feature_names)\n",
    "    # Call graphviz to make an image file from our decision tree\n",
    "    os.system(\"dot -T png images/\" + name + \".dot -o images/\" + name + \".png\")\n",
    "    # Return the .png image so we can see it\n",
    "    return Image(filename='images/' + name + '.png')\n",
    "\n",
    "\n",
    "\n",
    "# YOU SHOULD HAVE CREATED TREE_MODEL AND DATA VARIABLES BEFORE !!!!\n",
    "\n",
    "Decision_Tree_Image(tree_model, data.drop(['churndep'], axis=1).columns)\n",
    "\n"
   ]
  },
  {
   "cell_type": "markdown",
   "metadata": {},
   "source": [
    "6\\. Load in another data set `data/cell2cell_data_20_percent.csv`. This data is of the same format as the other file we read in. Using the classifier built and fit above, predict `\"churndep\"` on the original data and the new data that you just loaded in. How well does it predict? (I.e., what is the accuracy on each data set?)"
   ]
  },
  {
   "cell_type": "code",
   "execution_count": null,
   "metadata": {
    "collapsed": false
   },
   "outputs": [],
   "source": [
    "import pandas as pd\n",
    "import sklearn   # This library will help to get the values\n",
    "\n",
    "\n",
    "data_new = \n",
    "\n",
    "tree_data_accuracy = \n",
    "tree_new_data_accuracy = \n",
    "\n",
    "\n",
    "# This line will be used for grading. DO NOT REMOVE IT. Make sure it prints out the correct value!!!\n",
    "print (\"Data and data_new accuracy = %.4f and %.4f\" % (tree_data_accuracy, tree_new_data_accuracy))\n"
   ]
  },
  {
   "cell_type": "markdown",
   "metadata": {},
   "source": [
    "7\\. Create your own training/test split.  First use pandas to create one unique data frame **combining** the 80_percent and the 20_percent dataframes. \n",
    "\n",
    "Then, write the code to split that data frame into 2 new, random samples **without replacement**. You should have at the end a new random data frame called \"train_df\" with 80% of the data and another dataframe called \"test_df\" including the rest (20%) of the data. You may use any `random` function from numpy that suits, but **DO NOT** use functions from sklearn."
   ]
  },
  {
   "cell_type": "code",
   "execution_count": null,
   "metadata": {
    "collapsed": true
   },
   "outputs": [],
   "source": [
    "# Set randomness if you want to test it with the same answer\n",
    "\n",
    "#import numpy as np\n",
    "#np.random.seed(841)\n",
    "\n",
    "\n",
    "\n",
    "\n",
    "\n",
    "\n",
    "\n",
    "# DON'T FORGET TO LOOK AT THE SIZE OF YOUR COMBINED DATA FRAME  \n",
    "# YOU CAN USE THE FUNCTION \"SHAPE\" FOR THIS:  PRINT ( MY_DATAFRAME_COMBINED.SHAPE )\n"
   ]
  },
  {
   "cell_type": "markdown",
   "metadata": {},
   "source": [
    "8\\. From the new train/test split, what is the generalization accuracy of a learned classification tree? "
   ]
  },
  {
   "cell_type": "code",
   "execution_count": null,
   "metadata": {
    "collapsed": false
   },
   "outputs": [],
   "source": [
    "\n",
    "\n",
    "\n",
    "\n",
    "new_tree_train_accuracy = \n",
    "new_tree_test_accuracy = \n",
    "\n",
    "\n",
    "# This line will be used for grading. DO NOT REMOVE IT. Make sure it prints out the correct value!!!\n",
    "print (\"Train_df and test_df accuracy (my split) = %.4f and %.4f\" % (new_tree_train_accuracy, new_tree_test_accuracy))\n"
   ]
  },
  {
   "cell_type": "markdown",
   "metadata": {},
   "source": [
    "### Part 3\n",
    "\n",
    "The options we chose for your tree may not be optimal. We need to analyze whether tuning the parameters can improve the accuracy of the classifier.  For the following options `max_depth`, `min_samples_split`, and `min_samples_leaf`:"
   ]
  },
  {
   "cell_type": "markdown",
   "metadata": {},
   "source": [
    "1\\. Generate a range of 10 values of each that make sense to test (To select these numbers: Think about the number of observations that you have)\n",
    "\n",
    "[ Hint: exponentially increasing values for the parameters is a good approach ]"
   ]
  },
  {
   "cell_type": "code",
   "execution_count": null,
   "metadata": {
    "collapsed": true
   },
   "outputs": [],
   "source": [
    "\n",
    "min_samples_split_values = []\n",
    "min_samples_leaf_values = []\n",
    "max_depth_values = []\n"
   ]
  },
  {
   "cell_type": "markdown",
   "metadata": {},
   "source": [
    "2\\. For the values of `max_depth`, `min_samples_split`, and `min_samples_leaf` you chose in 3.1 build a new decision tree classifier **(on the *original* data we read in, stored in _`data`_ with the CSV information)** and record the classifier's accuracy ON both, the original train (data) and test (data\\_new). You should now generate three plots, each with 10 points for the original data and 10 points for the new data. The values you chose are on the x-axis, the accuracies you calculated are on the y-axis, and there will be two lines/curves per plot (one for `data` and the other for `data_new`).\n",
    "\n",
    "[Hint: for `min_samples_split` and `min_samples_leaf` you may want to visualize your plot with a **log scale** on the x-axis.  Also note that the fitting curve will be \"backwards\" for those two parameters, as we would expect more fitting with smaller values.]"
   ]
  },
  {
   "cell_type": "code",
   "execution_count": null,
   "metadata": {
    "collapsed": true
   },
   "outputs": [],
   "source": [
    "import matplotlib.pyplot as plt\n",
    "%matplotlib inline"
   ]
  },
  {
   "cell_type": "code",
   "execution_count": null,
   "metadata": {
    "collapsed": false
   },
   "outputs": [],
   "source": [
    "\n",
    "# MIN SAMPLES SPLIT GRAPH\n",
    "\n",
    "accuracies = []\n",
    "accuracies_new = []\n",
    "\n",
    "\n"
   ]
  },
  {
   "cell_type": "code",
   "execution_count": null,
   "metadata": {
    "collapsed": false
   },
   "outputs": [],
   "source": [
    "# MIN SAMPLES LEAF GRAPH\n",
    "\n",
    "\n",
    "accuracies = []\n",
    "accuracies_new = []\n"
   ]
  },
  {
   "cell_type": "code",
   "execution_count": null,
   "metadata": {
    "collapsed": false
   },
   "outputs": [],
   "source": [
    "# MAX DEPTH GRAPH\n",
    "\n",
    "\n",
    "accuracies = []\n",
    "accuracies_new = []\n"
   ]
  },
  {
   "cell_type": "markdown",
   "metadata": {},
   "source": [
    "3\\. Now let's try fitting some linear models: a logistic regression (`sklearn.linear_model.LogisticRegression()`, [manual](http://scikit-learn.org/stable/modules/generated/sklearn.linear_model.LogisticRegression.html)) and SVM (`sklearn.svm.LinearSVC()`, [manual](http://scikit-learn.org/stable/modules/generated/sklearn.svm.LinearSVC.html)). For each of these models, fit them on the first set of data we read in (the TRAIN which is stored in `data`) and report the accuracy on both sets of data we read first (the train in `data` and the test in `data_new`). \n",
    "\n",
    "When fitting each model, you should keep all parameters at their defaults."
   ]
  },
  {
   "cell_type": "code",
   "execution_count": null,
   "metadata": {
    "collapsed": false
   },
   "outputs": [],
   "source": [
    "\n",
    "from sklearn.linear_model import LogisticRegression\n",
    "from sklearn.svm import LinearSVC\n",
    "\n",
    "\n",
    "\n",
    "logistic_regression_original_accuracy = \n",
    "logistic_regression_new_accuracy = \n",
    "\n",
    "svm_original_accuracy = \n",
    "svm_new_accuracy = \n",
    "\n",
    "\n",
    "\n",
    "# These lines will be used for grading. DO NOT REMOVE THEM. Make sure they print out the correct values!!!\n",
    "print (\"Original and new logistic regression accuracy = %.4f and %.4f\" % (logistic_regression_original_accuracy, logistic_regression_new_accuracy))\n",
    "print (\"Original and new SVM accuracy = %.4f and %.4f\" % (svm_original_accuracy, svm_new_accuracy))\n"
   ]
  },
  {
   "cell_type": "markdown",
   "metadata": {},
   "source": [
    "4\\. Now, let's compare this results with YOUR **new split created (train_df and test_df)**. \n",
    "\n",
    "Fit the same models (logistic regression and SVM) on these random data frames and report the accuracy on both sets (train_df and test_df). When fitting each model, you should keep all parameters as their defaults. "
   ]
  },
  {
   "cell_type": "code",
   "execution_count": null,
   "metadata": {
    "collapsed": false
   },
   "outputs": [],
   "source": [
    "\n",
    "from sklearn.linear_model import LogisticRegression\n",
    "from sklearn.svm import LinearSVC\n",
    "\n",
    "\n",
    "logistic_regression_original_accuracy = \n",
    "logistic_regression_new_accuracy = \n",
    "\n",
    "svm_original_accuracy = \n",
    "svm_new_accuracy = \n",
    "\n",
    "\n",
    "\n",
    "# These lines will be used for grading. DO NOT REMOVE THEM. Make sure they print out the correct values!!!\n",
    "print (\"Original and new logistic regression accuracy = %.4f and %.4f\" % (logistic_regression_original_accuracy, logistic_regression_new_accuracy))\n",
    "print (\"Original and new SVM accuracy = %.4f and %.4f\" % (svm_original_accuracy, svm_new_accuracy))\n"
   ]
  },
  {
   "cell_type": "markdown",
   "metadata": {},
   "source": [
    "***\n",
    "5\\. Compare the results of the original split and your random split.  Are they the different?  What do you conclude from this comparison about the original split of the data that you were given? "
   ]
  },
  {
   "cell_type": "markdown",
   "metadata": {
    "collapsed": true
   },
   "source": [
    "_Your answer here._"
   ]
  },
  {
   "cell_type": "markdown",
   "metadata": {},
   "source": [
    "***\n",
    "6\\. Compare the results of the linear models and the tree-structured models.  What do you conclude?"
   ]
  },
  {
   "cell_type": "markdown",
   "metadata": {
    "collapsed": true
   },
   "source": [
    "_Your answer here._"
   ]
  },
  {
   "cell_type": "code",
   "execution_count": null,
   "metadata": {
    "collapsed": true
   },
   "outputs": [],
   "source": []
  }
 ],
 "metadata": {
  "kernelspec": {
   "display_name": "Python 3",
   "language": "python",
   "name": "python3"
  },
  "language_info": {
   "codemirror_mode": {
    "name": "ipython",
    "version": 3
   },
   "file_extension": ".py",
   "mimetype": "text/x-python",
   "name": "python",
   "nbconvert_exporter": "python",
   "pygments_lexer": "ipython3",
   "version": "3.5.2"
  }
 },
 "nbformat": 4,
 "nbformat_minor": 0
}
