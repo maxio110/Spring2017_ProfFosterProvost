{
 "cells": [
  {
   "cell_type": "markdown",
   "metadata": {},
   "source": [
    "# Introduction to Data Science\n",
    "## Homework 4 "
   ]
  },
  {
   "cell_type": "markdown",
   "metadata": {},
   "source": [
    "Student Name: \n",
    "\n",
    "Student Netid: \n",
    "***"
   ]
  },
  {
   "cell_type": "markdown",
   "metadata": {},
   "source": [
    "### Part 1: Basic evaluations\n",
    "For this part of the assignment, we are going to use another (different) churn data set, located in `data/churn.csv`. The first 11 columns are predictor variables.\n",
    "\n",
    "```\n",
    "COLLEGE                       college educated?\n",
    "INCOME                        income\n",
    "OVERAGE                       average overcharges per month\n",
    "LEFTOVER                      average % leftover minutes per month\n",
    "HOUSE                         value of dwelling (from census tract)\n",
    "HANDSET_PRICE                 cost of phone\n",
    "OVER_15MINS_CALLS_PER_MONTH   average number of long calls per month\n",
    "AVERAGE_CALL_DURATION         average call duration\n",
    "REPORTED_SATISFACTION         reported level of satisfaction\n",
    "REPORTED_USAGE_LEVEL          self-reported usage level\n",
    "CONSIDERING_CHANGE_OF_PLAN    was customer considering changing plan?\n",
    "```\n",
    "\n",
    "The last column, `LEAVE`, is the target variable that equals one if the user left and zero if they stayed."
   ]
  },
  {
   "cell_type": "markdown",
   "metadata": {},
   "source": [
    "1\\. Load the data into a pandas `DataFrame()`."
   ]
  },
  {
   "cell_type": "code",
   "execution_count": null,
   "metadata": {
    "collapsed": true
   },
   "outputs": [],
   "source": [
    "\n",
    "\n"
   ]
  },
  {
   "cell_type": "markdown",
   "metadata": {},
   "source": [
    "2\\. Some of the columns are categorical variables. You have to turn these into zero/one **\"dummy\" variables**.  \n",
    "\n",
    "The idea is that for modeling methods like logistic regression which take only numeric inputs, we should change categorical variables. Basically, we must create one (new) **binary variable** for each value of the categorical. Technically if there are k values, we really need only to create new variables for k-1 of the categories, but often we create k new variables with all categories anyway, as that makes the model more interpretable.\n",
    "\n",
    "The following code is to help you understanding dummy variables, you might need to change it.\n"
   ]
  },
  {
   "cell_type": "code",
   "execution_count": null,
   "metadata": {
    "collapsed": true
   },
   "outputs": [],
   "source": [
    "\n",
    "for field in ['REPORTED_SATISFACTION', 'REPORTED_USAGE_LEVEL','CONSIDERING_CHANGE_OF_PLAN']:\n",
    "    \n",
    "    #Take all UNIQUE categories from each column \n",
    "    \n",
    "    for value in data[field].unique():\n",
    "    \n",
    "    \n",
    "        # In the DataFrame called \"data\", create a new column with the original name + the category name\n",
    "        # This new column will be created by \"False\" and \"True\" for each unique value in the field.\n",
    "        # Then, those True and False values can be transformed into  \"integer\" (e.g. 1 and 0)\n",
    "        \n",
    "        data[field + \"_\" + value] = pd.Series(data[field] == value,dtype=int)\n",
    "\n",
    "        \n",
    "    # Drop the original field (column), we only want to keep the new \"dummy variables\"\n",
    "    # Look at the them at the end of the data frame that will be printed after running this cell\n",
    "    \n",
    "    data = data.drop([field], axis=1)\n",
    "    \n",
    "    \n",
    "data.tail()\n"
   ]
  },
  {
   "cell_type": "markdown",
   "metadata": {},
   "source": [
    "3\\. Put all of the predictors into a data frame called `X` and the target variable in a data frame called `Y`."
   ]
  },
  {
   "cell_type": "code",
   "execution_count": null,
   "metadata": {
    "collapsed": true
   },
   "outputs": [],
   "source": [
    "\n",
    "\n"
   ]
  },
  {
   "cell_type": "markdown",
   "metadata": {},
   "source": [
    "3\\. Create `LogisticRegression()` and `DecisionTreeClassifier()` models. For the tree-structured model, use `criterion=\"entropy\"` and `min_samples_split=50` (the latter to make sure the tree is not making decisions from too few data). For all other settings, keep the default values. \n",
    "\n",
    "For these models, obtain the accuracy estimates (average) and standard deviations based on cross-validation with different fold values: 2, 5, 10, 20, 50, and 75. \n",
    "Store your results in **lr_all_acc**, **dt_all_acc**, **lr_all_std**, **dt_all_std**"
   ]
  },
  {
   "cell_type": "code",
   "execution_count": null,
   "metadata": {
    "collapsed": true
   },
   "outputs": [],
   "source": [
    "\n",
    "cv_number_folds = [2,5,10,20,50,75]\n",
    "\n",
    "# Logistic regression cross-validation accuracies\n",
    "lr_all_acc = []   \n",
    "lr_all_std = []\n",
    "# Decision tree cross-validation accuracies\n",
    "dt_all_acc = []\n",
    "dt_all_std = []\n",
    "\n",
    "\n",
    "\n",
    "\n",
    "\n",
    "\n",
    "\n",
    "\n",
    "\n",
    "\n",
    "\n",
    "\n",
    "# These lines will be used for GRADING. Ensure that they print what they should.\n",
    "\n",
    "print ( \"Logistic regression folds: Mean Accuracy %.4f\" % (np.mean(lr_all_acc)))\n",
    "print (\"Tree folds: Mean Accuracy %.4f\" % (np.mean(dt_all_acc)) )\n"
   ]
  },
  {
   "cell_type": "markdown",
   "metadata": {},
   "source": [
    "4\\. Now **plot** your results: for each modeling method, plot the average generalization performance with +/- one standard deviation error bars.  **Explain** what the graph reveals. ** Explain:** which number of folds would you select and why? \n",
    "\n",
    "Here is how the plots should look like  \n",
    "\n",
    "_Hint:  plt.errorbar might be helpful_"
   ]
  },
  {
   "cell_type": "code",
   "execution_count": null,
   "metadata": {
    "collapsed": true
   },
   "outputs": [],
   "source": [
    "import matplotlib.pyplot as plt\n",
    "%matplotlib inline\n",
    "plt.rcParams['figure.figsize'] = 10, 8"
   ]
  },
  {
   "cell_type": "code",
   "execution_count": 11,
   "metadata": {
    "collapsed": false
   },
   "outputs": [
    {
     "data": {
      "text/plain": [
       "<Container object of 3 artists>"
      ]
     },
     "execution_count": 11,
     "metadata": {},
     "output_type": "execute_result"
    },
    {
     "data": {
      "image/png": "[encoded data removed]",
      "text/plain": [
       "<matplotlib.figure.Figure at 0x11d668990>"
      ]
     },
     "metadata": {},
     "output_type": "display_data"
    }
   ],
   "source": [
    "\n",
    "## CODE FOR YOUR GRAPHS HERE: \n",
    "\n",
    "\n",
    "\n",
    "\n",
    "\n",
    "\n",
    "\n",
    "\n"
   ]
  },
  {
   "cell_type": "markdown",
   "metadata": {},
   "source": [
    "** Answers here! **\n",
    "\n",
    "***"
   ]
  },
  {
   "cell_type": "markdown",
   "metadata": {},
   "source": [
    "5\\. Create the same **plots** for a different evaluation metric: Area under the ROC curve (AUC score).  (**Read Chapter 8**) \n",
    "\n",
    "**Do you draw the same conclusions?**  Which metric would you prefer for this problem?"
   ]
  },
  {
   "cell_type": "code",
   "execution_count": 15,
   "metadata": {
    "collapsed": true
   },
   "outputs": [],
   "source": [
    "cv_number_folds = [2,5,10,20,50,75]\n",
    "\n",
    "# Logistic regression cross-validation auc\n",
    "lr_all_auc = []   \n",
    "lr_all_std = []\n",
    "# Decision tree cross-validation auc\n",
    "dt_all_auc = []\n",
    "dt_all_std = []\n",
    "\n",
    "\n",
    "\n",
    "\n",
    "\n",
    "\n",
    "\n",
    "\n",
    "\n",
    "\n"
   ]
  },
  {
   "cell_type": "markdown",
   "metadata": {},
   "source": [
    "** Answer here! **\n",
    "\n",
    "***"
   ]
  },
  {
   "cell_type": "markdown",
   "metadata": {},
   "source": [
    "### Part 2: Find the best model"
   ]
  },
  {
   "cell_type": "markdown",
   "metadata": {},
   "source": [
    "1\\. Create `LogisticRegression()` and `DecisionTreeClassifier()` models. For the logistic regression **find the optimal value** for regularization (`C`) using 10-fold cross validation and area under the ROC curve (AUC). Use the same procedure to find the optimal value of `min_samples_split` for the decision tree classifier (criterion='entropy'). For each of these values, try 20 different choices. To show your results, **create two plots**, one for each modeling method, that show the value of AUC on the y-axis and the parameter values you tried on the x-axis. **Don't forget to label your axes!**  \n",
    "\n",
    "[Hint 1: for a coarse search of the space of complexity parameters a good heuristic is to cover the range with an exponentially increasing set of values.  We're already doing that with C.  How could you get a good coverage of the range of possible min_samples_split?] \n",
    "\n",
    "[Hint 2: Plotting with a log scale on the x-axis sometimes helps. Note we're already doing that by plotting C.]"
   ]
  },
  {
   "cell_type": "code",
   "execution_count": null,
   "metadata": {
    "collapsed": false
   },
   "outputs": [],
   "source": [
    "\n",
    "# Code to test and create a plot for LogisticRegression() here\n",
    "\n",
    "\n",
    "\n"
   ]
  },
  {
   "cell_type": "code",
   "execution_count": null,
   "metadata": {
    "collapsed": true
   },
   "outputs": [],
   "source": [
    "\n",
    "# Code to test and create a plot for DecisionTreeClassifier() here\n",
    "\n",
    "\n",
    "\n"
   ]
  },
  {
   "cell_type": "markdown",
   "metadata": {},
   "source": [
    "2\\. Split your data to create different training sets with size 10%, 20%, 40%, 80%, and 90% of the size of the original data set. Fit two models for the different training sets: decision tree (entropy criteria) and logistic regression. Use the **best parameters** from the previous question and 10-fold cross validation. Plot the **learning curves** for the two models on one plot, including +/- one standard deviation error bars and using auc score.  Use log scale on the x-axis (hint: using basex=2 looks much nicer than the default). Make sure your plot has a legend so that you can tell which curve is related to which model. **Don't forget to label your axes **.  \n",
    "\n",
    "**Explain what the learning curves reveal**."
   ]
  },
  {
   "cell_type": "code",
   "execution_count": null,
   "metadata": {
    "collapsed": true
   },
   "outputs": [],
   "source": [
    "\n",
    "from sklearn.model_selection import train_test_split\n",
    "sample_sizes = [.1, .2, .4, .8, .9]\n",
    "\n",
    "\n",
    "\n",
    "\n",
    "\n"
   ]
  },
  {
   "cell_type": "markdown",
   "metadata": {},
   "source": [
    "### Part 3: Find the best model: **GRID SEARCH**\n",
    "\n",
    "Ok. So sklearn provides a function that searches for the best modeling paramenters, as you did above.  This is very much \"machine learning style\" modeling, where as much as possible is inferred from the data--in particular, even the right values for the modeling parameters.\n",
    "\n",
    "1\\. Use the sklearn function GridSearchCV to perform a grid search. This is a search through the modeling parameters that we have been using before (e.g. regularization \"c\", min_samples_split, ...). They are called \"hyper-parameters\" and we want to find the best coombination of them for our model (not individually like we did it before).   \n",
    "\n",
    "This grid-search function uses a Python **dictionary** to lay out the values that we want to search among. \n",
    "\n",
    "Then, using the same lists of values that you used above (e.g. all the min_samples_split of Part2, question1), create a dictionary and use it for the grid search.\n",
    "\n",
    "Example: GridSearchCV( DecisionTreeClassifier(), parameters_dictionary )\n",
    "\n",
    "[You can find the documentation here](http://scikit-learn.org/stable/modules/generated/sklearn.model_selection.GridSearchCV.html#sklearn.model_selection.GridSearchCV)\n"
   ]
  },
  {
   "cell_type": "code",
   "execution_count": null,
   "metadata": {
    "collapsed": true
   },
   "outputs": [],
   "source": [
    "\n",
    "from sklearn.model_selection import GridSearchCV\n",
    "\n",
    "\n",
    "\n",
    "\n",
    "\n"
   ]
  },
  {
   "cell_type": "markdown",
   "metadata": {},
   "source": [
    "2\\. Which are the best values for regularization and min_samples_split with this function? Did they change?"
   ]
  },
  {
   "cell_type": "code",
   "execution_count": null,
   "metadata": {
    "collapsed": false
   },
   "outputs": [],
   "source": [
    "\n",
    "\n",
    "\n",
    "\n"
   ]
  },
  {
   "cell_type": "markdown",
   "metadata": {},
   "source": [
    "3\\. Evaluate the grid search again but this time include in the dictionary for logistic regression a list with penalty 'l1' and 'l2'. Also, for the decision tree, include a list of values for \"min_samples_leaf= [100, 200, 300, 400, 500, 1000]\". \n",
    "\n",
    "**What is the best selection for logistic regression and decision tree now?**"
   ]
  },
  {
   "cell_type": "code",
   "execution_count": null,
   "metadata": {
    "collapsed": false
   },
   "outputs": [],
   "source": [
    "\n",
    "\n",
    "\n",
    "\n",
    "\n",
    "\n",
    "\n",
    "\n",
    "\n",
    "\n",
    "\n",
    "\n",
    "\n",
    "\n"
   ]
  },
  {
   "cell_type": "markdown",
   "metadata": {},
   "source": [
    "*Ok.  One last thing.  In the above analysis, although we found a set of best parameters, we chose them from performance over many cross-validations.  Thus, we made modeling decisions using the test sets.  That's fine for choosing the hyperparameters, but compromises our estimates of the final accuracy (which you did not report).  Technically, if we want good estimates of the accuracy of the resultant models, we should do our evaluation on a test set that was not used to make *any* modeling decisions.  The book discusses \"nested cross-validation\" as a technique to accomplish this.  This is not required for the homework, but if you want to challenge yourself to do what a top-notch data scientist would do, use nested cross-validation to do the grid search for the best parameters *using data only from the training folds*, and then build the model for the test folds with the chosen parameter.  Or, alternatively, hold out a final test set at the beginning for the final testing.*  \n"
   ]
  },
  {
   "cell_type": "markdown",
   "metadata": {},
   "source": [
    "No answer required."
   ]
  }
 ],
 "metadata": {
  "kernelspec": {
   "display_name": "Python 3",
   "language": "python",
   "name": "python3"
  },
  "language_info": {
   "codemirror_mode": {
    "name": "ipython",
    "version": 3
   },
   "file_extension": ".py",
   "mimetype": "text/x-python",
   "name": "python",
   "nbconvert_exporter": "python",
   "pygments_lexer": "ipython3",
   "version": "3.5.2"
  }
 },
 "nbformat": 4,
 "nbformat_minor": 0
}
