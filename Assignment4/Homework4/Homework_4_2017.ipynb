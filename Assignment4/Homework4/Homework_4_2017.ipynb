{
 "cells": [
  {
   "cell_type": "markdown",
   "metadata": {},
   "source": [
    "# Introduction to Data Science\n",
    "## Homework 4 "
   ]
  },
  {
   "cell_type": "markdown",
   "metadata": {},
   "source": [
    "Student Name: Xiang Wang\n",
    "\n",
    "Student Netid: xw1173\n",
    "***"
   ]
  },
  {
   "cell_type": "markdown",
   "metadata": {},
   "source": [
    "### Part 1: Basic evaluations\n",
    "For this part of the assignment, we are going to use another (different) churn data set, located in `data/churn.csv`. The first 11 columns are predictor variables.\n",
    "\n",
    "```\n",
    "COLLEGE                       college educated?\n",
    "INCOME                        income\n",
    "OVERAGE                       average overcharges per month\n",
    "LEFTOVER                      average % leftover minutes per month\n",
    "HOUSE                         value of dwelling (from census tract)\n",
    "HANDSET_PRICE                 cost of phone\n",
    "OVER_15MINS_CALLS_PER_MONTH   average number of long calls per month\n",
    "AVERAGE_CALL_DURATION         average call duration\n",
    "REPORTED_SATISFACTION         reported level of satisfaction\n",
    "REPORTED_USAGE_LEVEL          self-reported usage level\n",
    "CONSIDERING_CHANGE_OF_PLAN    was customer considering changing plan?\n",
    "```\n",
    "\n",
    "The last column, `LEAVE`, is the target variable that equals one if the user left and zero if they stayed."
   ]
  },
  {
   "cell_type": "markdown",
   "metadata": {},
   "source": [
    "1\\. Load the data into a pandas `DataFrame()`."
   ]
  },
  {
   "cell_type": "code",
   "execution_count": 23,
   "metadata": {
    "collapsed": false
   },
   "outputs": [
    {
     "data": {
      "text/html": [
       "<div>\n",
       "<table border=\"1\" class=\"dataframe\">\n",
       "  <thead>\n",
       "    <tr style=\"text-align: right;\">\n",
       "      <th></th>\n",
       "      <th>COLLEGE</th>\n",
       "      <th>INCOME</th>\n",
       "      <th>OVERAGE</th>\n",
       "      <th>LEFTOVER</th>\n",
       "      <th>HOUSE</th>\n",
       "      <th>HANDSET_PRICE</th>\n",
       "      <th>OVER_15MINS_CALLS_PER_MONTH</th>\n",
       "      <th>AVERAGE_CALL_DURATION</th>\n",
       "      <th>REPORTED_SATISFACTION</th>\n",
       "      <th>REPORTED_USAGE_LEVEL</th>\n",
       "      <th>CONSIDERING_CHANGE_OF_PLAN</th>\n",
       "      <th>LEAVE</th>\n",
       "    </tr>\n",
       "  </thead>\n",
       "  <tbody>\n",
       "    <tr>\n",
       "      <th>11147</th>\n",
       "      <td>0</td>\n",
       "      <td>82056</td>\n",
       "      <td>244</td>\n",
       "      <td>11</td>\n",
       "      <td>964443</td>\n",
       "      <td>297</td>\n",
       "      <td>26</td>\n",
       "      <td>4</td>\n",
       "      <td>avg</td>\n",
       "      <td>little</td>\n",
       "      <td>no</td>\n",
       "      <td>0</td>\n",
       "    </tr>\n",
       "    <tr>\n",
       "      <th>11148</th>\n",
       "      <td>0</td>\n",
       "      <td>105890</td>\n",
       "      <td>73</td>\n",
       "      <td>7</td>\n",
       "      <td>397776</td>\n",
       "      <td>820</td>\n",
       "      <td>25</td>\n",
       "      <td>14</td>\n",
       "      <td>avg</td>\n",
       "      <td>little</td>\n",
       "      <td>considering</td>\n",
       "      <td>0</td>\n",
       "    </tr>\n",
       "    <tr>\n",
       "      <th>11149</th>\n",
       "      <td>0</td>\n",
       "      <td>153252</td>\n",
       "      <td>0</td>\n",
       "      <td>23</td>\n",
       "      <td>368403</td>\n",
       "      <td>597</td>\n",
       "      <td>1</td>\n",
       "      <td>6</td>\n",
       "      <td>very_sat</td>\n",
       "      <td>little</td>\n",
       "      <td>actively_looking_into_it</td>\n",
       "      <td>0</td>\n",
       "    </tr>\n",
       "    <tr>\n",
       "      <th>11150</th>\n",
       "      <td>1</td>\n",
       "      <td>107126</td>\n",
       "      <td>71</td>\n",
       "      <td>82</td>\n",
       "      <td>237397</td>\n",
       "      <td>609</td>\n",
       "      <td>5</td>\n",
       "      <td>2</td>\n",
       "      <td>very_sat</td>\n",
       "      <td>very_little</td>\n",
       "      <td>no</td>\n",
       "      <td>0</td>\n",
       "    </tr>\n",
       "    <tr>\n",
       "      <th>11151</th>\n",
       "      <td>0</td>\n",
       "      <td>78674</td>\n",
       "      <td>47</td>\n",
       "      <td>41</td>\n",
       "      <td>572406</td>\n",
       "      <td>288</td>\n",
       "      <td>4</td>\n",
       "      <td>2</td>\n",
       "      <td>very_unsat</td>\n",
       "      <td>little</td>\n",
       "      <td>considering</td>\n",
       "      <td>1</td>\n",
       "    </tr>\n",
       "  </tbody>\n",
       "</table>\n",
       "</div>"
      ],
      "text/plain": [
       "       COLLEGE  INCOME  OVERAGE  LEFTOVER   HOUSE  HANDSET_PRICE  \\\n",
       "11147        0   82056      244        11  964443            297   \n",
       "11148        0  105890       73         7  397776            820   \n",
       "11149        0  153252        0        23  368403            597   \n",
       "11150        1  107126       71        82  237397            609   \n",
       "11151        0   78674       47        41  572406            288   \n",
       "\n",
       "       OVER_15MINS_CALLS_PER_MONTH  AVERAGE_CALL_DURATION  \\\n",
       "11147                           26                      4   \n",
       "11148                           25                     14   \n",
       "11149                            1                      6   \n",
       "11150                            5                      2   \n",
       "11151                            4                      2   \n",
       "\n",
       "      REPORTED_SATISFACTION REPORTED_USAGE_LEVEL CONSIDERING_CHANGE_OF_PLAN  \\\n",
       "11147                   avg               little                         no   \n",
       "11148                   avg               little                considering   \n",
       "11149              very_sat               little   actively_looking_into_it   \n",
       "11150              very_sat          very_little                         no   \n",
       "11151            very_unsat               little                considering   \n",
       "\n",
       "       LEAVE  \n",
       "11147      0  \n",
       "11148      0  \n",
       "11149      0  \n",
       "11150      0  \n",
       "11151      1  "
      ]
     },
     "execution_count": 23,
     "metadata": {},
     "output_type": "execute_result"
    }
   ],
   "source": [
    "import pandas as pd\n",
    "\n",
    "data = pd.read_csv('data/churn_data.csv')\n",
    "\n",
    "data.tail()"
   ]
  },
  {
   "cell_type": "markdown",
   "metadata": {},
   "source": [
    "2\\. Some of the columns are categorical variables. You have to turn these into zero/one **\"dummy\" variables**.  \n",
    "\n",
    "The idea is that for modeling methods like logistic regression which take only numeric inputs, we should change categorical variables. Basically, we must create one (new) **binary variable** for each value of the categorical. Technically if there are k values, we really need only to create new variables for k-1 of the categories, but often we create k new variables with all categories anyway, as that makes the model more interpretable.\n",
    "\n",
    "The following code is to help you understanding dummy variables, you might need to change it.\n"
   ]
  },
  {
   "cell_type": "code",
   "execution_count": 24,
   "metadata": {
    "collapsed": false
   },
   "outputs": [
    {
     "data": {
      "text/html": [
       "<div>\n",
       "<table border=\"1\" class=\"dataframe\">\n",
       "  <thead>\n",
       "    <tr style=\"text-align: right;\">\n",
       "      <th></th>\n",
       "      <th>COLLEGE</th>\n",
       "      <th>INCOME</th>\n",
       "      <th>OVERAGE</th>\n",
       "      <th>LEFTOVER</th>\n",
       "      <th>HOUSE</th>\n",
       "      <th>HANDSET_PRICE</th>\n",
       "      <th>OVER_15MINS_CALLS_PER_MONTH</th>\n",
       "      <th>AVERAGE_CALL_DURATION</th>\n",
       "      <th>LEAVE</th>\n",
       "      <th>REPORTED_SATISFACTION_unsat</th>\n",
       "      <th>...</th>\n",
       "      <th>REPORTED_USAGE_LEVEL_little</th>\n",
       "      <th>REPORTED_USAGE_LEVEL_very_little</th>\n",
       "      <th>REPORTED_USAGE_LEVEL_high</th>\n",
       "      <th>REPORTED_USAGE_LEVEL_very_high</th>\n",
       "      <th>REPORTED_USAGE_LEVEL_avg</th>\n",
       "      <th>CONSIDERING_CHANGE_OF_PLAN_no</th>\n",
       "      <th>CONSIDERING_CHANGE_OF_PLAN_considering</th>\n",
       "      <th>CONSIDERING_CHANGE_OF_PLAN_perhaps</th>\n",
       "      <th>CONSIDERING_CHANGE_OF_PLAN_never_thought</th>\n",
       "      <th>CONSIDERING_CHANGE_OF_PLAN_actively_looking_into_it</th>\n",
       "    </tr>\n",
       "  </thead>\n",
       "  <tbody>\n",
       "    <tr>\n",
       "      <th>11147</th>\n",
       "      <td>0</td>\n",
       "      <td>82056</td>\n",
       "      <td>244</td>\n",
       "      <td>11</td>\n",
       "      <td>964443</td>\n",
       "      <td>297</td>\n",
       "      <td>26</td>\n",
       "      <td>4</td>\n",
       "      <td>0</td>\n",
       "      <td>0</td>\n",
       "      <td>...</td>\n",
       "      <td>1</td>\n",
       "      <td>0</td>\n",
       "      <td>0</td>\n",
       "      <td>0</td>\n",
       "      <td>0</td>\n",
       "      <td>1</td>\n",
       "      <td>0</td>\n",
       "      <td>0</td>\n",
       "      <td>0</td>\n",
       "      <td>0</td>\n",
       "    </tr>\n",
       "    <tr>\n",
       "      <th>11148</th>\n",
       "      <td>0</td>\n",
       "      <td>105890</td>\n",
       "      <td>73</td>\n",
       "      <td>7</td>\n",
       "      <td>397776</td>\n",
       "      <td>820</td>\n",
       "      <td>25</td>\n",
       "      <td>14</td>\n",
       "      <td>0</td>\n",
       "      <td>0</td>\n",
       "      <td>...</td>\n",
       "      <td>1</td>\n",
       "      <td>0</td>\n",
       "      <td>0</td>\n",
       "      <td>0</td>\n",
       "      <td>0</td>\n",
       "      <td>0</td>\n",
       "      <td>1</td>\n",
       "      <td>0</td>\n",
       "      <td>0</td>\n",
       "      <td>0</td>\n",
       "    </tr>\n",
       "    <tr>\n",
       "      <th>11149</th>\n",
       "      <td>0</td>\n",
       "      <td>153252</td>\n",
       "      <td>0</td>\n",
       "      <td>23</td>\n",
       "      <td>368403</td>\n",
       "      <td>597</td>\n",
       "      <td>1</td>\n",
       "      <td>6</td>\n",
       "      <td>0</td>\n",
       "      <td>0</td>\n",
       "      <td>...</td>\n",
       "      <td>1</td>\n",
       "      <td>0</td>\n",
       "      <td>0</td>\n",
       "      <td>0</td>\n",
       "      <td>0</td>\n",
       "      <td>0</td>\n",
       "      <td>0</td>\n",
       "      <td>0</td>\n",
       "      <td>0</td>\n",
       "      <td>1</td>\n",
       "    </tr>\n",
       "    <tr>\n",
       "      <th>11150</th>\n",
       "      <td>1</td>\n",
       "      <td>107126</td>\n",
       "      <td>71</td>\n",
       "      <td>82</td>\n",
       "      <td>237397</td>\n",
       "      <td>609</td>\n",
       "      <td>5</td>\n",
       "      <td>2</td>\n",
       "      <td>0</td>\n",
       "      <td>0</td>\n",
       "      <td>...</td>\n",
       "      <td>0</td>\n",
       "      <td>1</td>\n",
       "      <td>0</td>\n",
       "      <td>0</td>\n",
       "      <td>0</td>\n",
       "      <td>1</td>\n",
       "      <td>0</td>\n",
       "      <td>0</td>\n",
       "      <td>0</td>\n",
       "      <td>0</td>\n",
       "    </tr>\n",
       "    <tr>\n",
       "      <th>11151</th>\n",
       "      <td>0</td>\n",
       "      <td>78674</td>\n",
       "      <td>47</td>\n",
       "      <td>41</td>\n",
       "      <td>572406</td>\n",
       "      <td>288</td>\n",
       "      <td>4</td>\n",
       "      <td>2</td>\n",
       "      <td>1</td>\n",
       "      <td>0</td>\n",
       "      <td>...</td>\n",
       "      <td>1</td>\n",
       "      <td>0</td>\n",
       "      <td>0</td>\n",
       "      <td>0</td>\n",
       "      <td>0</td>\n",
       "      <td>0</td>\n",
       "      <td>1</td>\n",
       "      <td>0</td>\n",
       "      <td>0</td>\n",
       "      <td>0</td>\n",
       "    </tr>\n",
       "  </tbody>\n",
       "</table>\n",
       "<p>5 rows × 24 columns</p>\n",
       "</div>"
      ],
      "text/plain": [
       "       COLLEGE  INCOME  OVERAGE  LEFTOVER   HOUSE  HANDSET_PRICE  \\\n",
       "11147        0   82056      244        11  964443            297   \n",
       "11148        0  105890       73         7  397776            820   \n",
       "11149        0  153252        0        23  368403            597   \n",
       "11150        1  107126       71        82  237397            609   \n",
       "11151        0   78674       47        41  572406            288   \n",
       "\n",
       "       OVER_15MINS_CALLS_PER_MONTH  AVERAGE_CALL_DURATION  LEAVE  \\\n",
       "11147                           26                      4      0   \n",
       "11148                           25                     14      0   \n",
       "11149                            1                      6      0   \n",
       "11150                            5                      2      0   \n",
       "11151                            4                      2      1   \n",
       "\n",
       "       REPORTED_SATISFACTION_unsat  \\\n",
       "11147                            0   \n",
       "11148                            0   \n",
       "11149                            0   \n",
       "11150                            0   \n",
       "11151                            0   \n",
       "\n",
       "                              ...                           \\\n",
       "11147                         ...                            \n",
       "11148                         ...                            \n",
       "11149                         ...                            \n",
       "11150                         ...                            \n",
       "11151                         ...                            \n",
       "\n",
       "       REPORTED_USAGE_LEVEL_little  REPORTED_USAGE_LEVEL_very_little  \\\n",
       "11147                            1                                 0   \n",
       "11148                            1                                 0   \n",
       "11149                            1                                 0   \n",
       "11150                            0                                 1   \n",
       "11151                            1                                 0   \n",
       "\n",
       "       REPORTED_USAGE_LEVEL_high  REPORTED_USAGE_LEVEL_very_high  \\\n",
       "11147                          0                               0   \n",
       "11148                          0                               0   \n",
       "11149                          0                               0   \n",
       "11150                          0                               0   \n",
       "11151                          0                               0   \n",
       "\n",
       "       REPORTED_USAGE_LEVEL_avg  CONSIDERING_CHANGE_OF_PLAN_no  \\\n",
       "11147                         0                              1   \n",
       "11148                         0                              0   \n",
       "11149                         0                              0   \n",
       "11150                         0                              1   \n",
       "11151                         0                              0   \n",
       "\n",
       "       CONSIDERING_CHANGE_OF_PLAN_considering  \\\n",
       "11147                                       0   \n",
       "11148                                       1   \n",
       "11149                                       0   \n",
       "11150                                       0   \n",
       "11151                                       1   \n",
       "\n",
       "       CONSIDERING_CHANGE_OF_PLAN_perhaps  \\\n",
       "11147                                   0   \n",
       "11148                                   0   \n",
       "11149                                   0   \n",
       "11150                                   0   \n",
       "11151                                   0   \n",
       "\n",
       "       CONSIDERING_CHANGE_OF_PLAN_never_thought  \\\n",
       "11147                                         0   \n",
       "11148                                         0   \n",
       "11149                                         0   \n",
       "11150                                         0   \n",
       "11151                                         0   \n",
       "\n",
       "       CONSIDERING_CHANGE_OF_PLAN_actively_looking_into_it  \n",
       "11147                                                  0    \n",
       "11148                                                  0    \n",
       "11149                                                  1    \n",
       "11150                                                  0    \n",
       "11151                                                  0    \n",
       "\n",
       "[5 rows x 24 columns]"
      ]
     },
     "execution_count": 24,
     "metadata": {},
     "output_type": "execute_result"
    }
   ],
   "source": [
    "\n",
    "for field in ['REPORTED_SATISFACTION', 'REPORTED_USAGE_LEVEL','CONSIDERING_CHANGE_OF_PLAN']:\n",
    "    \n",
    "    #Take all UNIQUE categories from each column \n",
    "    \n",
    "    for value in data[field].unique():\n",
    "    \n",
    "    \n",
    "        # In the DataFrame called \"data\", create a new column with the original name + the category name\n",
    "        # This new column will be created by \"False\" and \"True\" for each unique value in the field.\n",
    "        # Then, those True and False values can be transformed into  \"integer\" (e.g. 1 and 0)\n",
    "        \n",
    "        data[field + \"_\" + value] = pd.Series(data[field] == value,dtype=int)\n",
    "\n",
    "        \n",
    "    # Drop the original field (column), we only want to keep the new \"dummy variables\"\n",
    "    # Look at the them at the end of the data frame that will be printed after running this cell\n",
    "    \n",
    "    data = data.drop([field], axis=1)\n",
    "    \n",
    "    \n",
    "data.tail()\n"
   ]
  },
  {
   "cell_type": "markdown",
   "metadata": {},
   "source": [
    "3\\. Put all of the predictors into a data frame called `X` and the target variable in a data frame called `Y`."
   ]
  },
  {
   "cell_type": "code",
   "execution_count": 34,
   "metadata": {
    "collapsed": false
   },
   "outputs": [],
   "source": [
    "X = data.drop([\"LEAVE\"], axis=1)\n",
    "Y = data.LEAVE"
   ]
  },
  {
   "cell_type": "markdown",
   "metadata": {},
   "source": [
    "3\\. Create `LogisticRegression()` and `DecisionTreeClassifier()` models. For the tree-structured model, use `criterion=\"entropy\"` and `min_samples_split=50` (the latter to make sure the tree is not making decisions from too few data). For all other settings, keep the default values. \n",
    "\n",
    "For these models, obtain the accuracy estimates (average) and standard deviations based on cross-validation with different fold values: 2, 5, 10, 20, 50, and 75. \n",
    "Store your results in **lr_all_acc**, **dt_all_acc**, **lr_all_std**, **dt_all_std**"
   ]
  },
  {
   "cell_type": "code",
   "execution_count": 36,
   "metadata": {
    "collapsed": false
   },
   "outputs": [
    {
     "name": "stdout",
     "output_type": "stream",
     "text": [
      "Logistic regression folds: Mean Accuracy 0.9098\n",
      "Tree folds: Mean Accuracy 0.8914\n"
     ]
    }
   ],
   "source": [
    "from sklearn.linear_model import LogisticRegression\n",
    "from sklearn.tree import DecisionTreeClassifier\n",
    "from sklearn.model_selection import cross_val_score\n",
    "import numpy as np\n",
    "\n",
    "lr_model = LogisticRegression()\n",
    "lr_model.fit(X, Y)\n",
    "\n",
    "dt_model = DecisionTreeClassifier(min_samples_split=50, criterion=\"entropy\") \n",
    "dt_model.fit(X, Y)\n",
    "\n",
    "cv_number_folds = [2,5,10,20,50,75]\n",
    "\n",
    "# Logistic regression cross-validation accuracies\n",
    "lr_all_acc = []   \n",
    "lr_all_std = []\n",
    "# Decision tree cross-validation accuracies\n",
    "dt_all_acc = []\n",
    "dt_all_std = []\n",
    "\n",
    "for cv in cv_number_folds:\n",
    "    lr_scores = cross_val_score(lr_model, X, Y, scoring=\"accuracy\", cv=cv)\n",
    "    dt_scores = cross_val_score(dt_model, X, Y, scoring=\"accuracy\", cv=cv)\n",
    "    \n",
    "    lr_all_acc.append(np.mean(lr_scores))\n",
    "    lr_all_std.append(np.std(lr_scores))\n",
    "    \n",
    "    dt_all_acc.append(np.mean(dt_scores))\n",
    "    dt_all_std.append(np.std(dt_scores))\n",
    "\n",
    "# These lines will be used for GRADING. Ensure that they print what they should.\n",
    "\n",
    "print ( \"Logistic regression folds: Mean Accuracy %.4f\" % (np.mean(lr_all_acc)))\n",
    "print (\"Tree folds: Mean Accuracy %.4f\" % (np.mean(dt_all_acc)) )\n"
   ]
  },
  {
   "cell_type": "markdown",
   "metadata": {},
   "source": [
    "4\\. Now **plot** your results: for each modeling method, plot the average generalization performance with +/- one standard deviation error bars.  **Explain** what the graph reveals. ** Explain:** which number of folds would you select and why? \n",
    "\n",
    "Here is how the plots should look like  \n",
    "\n",
    "_Hint:  plt.errorbar might be helpful_"
   ]
  },
  {
   "cell_type": "code",
   "execution_count": 38,
   "metadata": {
    "collapsed": true
   },
   "outputs": [],
   "source": [
    "import matplotlib.pyplot as plt\n",
    "%matplotlib inline\n",
    "plt.rcParams['figure.figsize'] = 10, 8"
   ]
  },
  {
   "cell_type": "code",
   "execution_count": 41,
   "metadata": {
    "collapsed": false
   },
   "outputs": [
    {
     "data": {
      "text/plain": [
       "<matplotlib.text.Text at 0x7f785750d3c8>"
      ]
     },
     "execution_count": 41,
     "metadata": {},
     "output_type": "execute_result"
    },
    {
     "data": {
      "image/png": "[encoded data removed]",
      "text/plain": [
       "<matplotlib.figure.Figure at 0x7f7857577978>"
      ]
     },
     "metadata": {},
     "output_type": "display_data"
    },
    {
     "data": {
      "image/png": "[encoded data removed]",
      "text/plain": [
       "<matplotlib.figure.Figure at 0x7f78574dedd8>"
      ]
     },
     "metadata": {},
     "output_type": "display_data"
    }
   ],
   "source": [
    "lr_err = lr_all_std\n",
    "dt_err = dt_all_std\n",
    "\n",
    "plt.figure()\n",
    "plt.errorbar(cv_number_folds, lr_all_acc, yerr=lr_err)\n",
    "plt.title(\"Logistic Regression Model Performance: +/- one standard deviation\")\n",
    "\n",
    "plt.figure()\n",
    "plt.errorbar(cv_number_folds, dt_all_acc, yerr=dt_err)\n",
    "plt.title(\"Decision Tree Model Performance: +/- one standard deviation\")"
   ]
  },
  {
   "cell_type": "markdown",
   "metadata": {},
   "source": [
    "** Answers here! **\n",
    "\n",
    "When the fold number is getting higher, the portion of data used for training is larger, which gives more generality for the model, but the piece used for test is getting smaller, which may reduce the generality of test, so there is a tradeoff between these two generalities, which is reflected by the approximately first increasing then decreasing trend for accuracy and high standard deviation at high fold number.\n",
    "\n",
    "As we can see for logistic regression model we have a good accuracy rate with minimum standard deviation at cv = 5.\n",
    "Same for decision tree model, cv = 5 is the best choice which gives the highest accuracy and a reasonable standard deviation.\n",
    "\n",
    "***"
   ]
  },
  {
   "cell_type": "markdown",
   "metadata": {},
   "source": [
    "5\\. Create the same **plots** for a different evaluation metric: Area under the ROC curve (AUC score).  (**Read Chapter 8**) \n",
    "\n",
    "**Do you draw the same conclusions?**  Which metric would you prefer for this problem?"
   ]
  },
  {
   "cell_type": "code",
   "execution_count": 15,
   "metadata": {
    "collapsed": true
   },
   "outputs": [],
   "source": [
    "cv_number_folds = [2,5,10,20,50,75]\n",
    "\n",
    "# Logistic regression cross-validation auc\n",
    "lr_all_auc = []   \n",
    "lr_all_std = []\n",
    "# Decision tree cross-validation auc\n",
    "dt_all_auc = []\n",
    "dt_all_std = []\n",
    "\n",
    "\n",
    "\n",
    "\n",
    "\n",
    "\n",
    "\n",
    "\n",
    "\n",
    "\n"
   ]
  },
  {
   "cell_type": "markdown",
   "metadata": {},
   "source": [
    "** Answer here! **\n",
    "\n",
    "***"
   ]
  },
  {
   "cell_type": "markdown",
   "metadata": {},
   "source": [
    "### Part 2: Find the best model"
   ]
  },
  {
   "cell_type": "markdown",
   "metadata": {},
   "source": [
    "1\\. Create `LogisticRegression()` and `DecisionTreeClassifier()` models. For the logistic regression **find the optimal value** for regularization (`C`) using 10-fold cross validation and area under the ROC curve (AUC). Use the same procedure to find the optimal value of `min_samples_split` for the decision tree classifier (criterion='entropy'). For each of these values, try 20 different choices. To show your results, **create two plots**, one for each modeling method, that show the value of AUC on the y-axis and the parameter values you tried on the x-axis. **Don't forget to label your axes!**  \n",
    "\n",
    "[Hint 1: for a coarse search of the space of complexity parameters a good heuristic is to cover the range with an exponentially increasing set of values.  We're already doing that with C.  How could you get a good coverage of the range of possible min_samples_split?] \n",
    "\n",
    "[Hint 2: Plotting with a log scale on the x-axis sometimes helps. Note we're already doing that by plotting C.]"
   ]
  },
  {
   "cell_type": "code",
   "execution_count": null,
   "metadata": {
    "collapsed": false
   },
   "outputs": [],
   "source": [
    "\n",
    "# Code to test and create a plot for LogisticRegression() here\n",
    "\n",
    "\n",
    "\n"
   ]
  },
  {
   "cell_type": "code",
   "execution_count": null,
   "metadata": {
    "collapsed": true
   },
   "outputs": [],
   "source": [
    "\n",
    "# Code to test and create a plot for DecisionTreeClassifier() here\n",
    "\n",
    "\n",
    "\n"
   ]
  },
  {
   "cell_type": "markdown",
   "metadata": {},
   "source": [
    "2\\. Split your data to create different training sets with size 10%, 20%, 40%, 80%, and 90% of the size of the original data set. Fit two models for the different training sets: decision tree (entropy criteria) and logistic regression. Use the **best parameters** from the previous question and 10-fold cross validation. Plot the **learning curves** for the two models on one plot, including +/- one standard deviation error bars and using auc score.  Use log scale on the x-axis (hint: using basex=2 looks much nicer than the default). Make sure your plot has a legend so that you can tell which curve is related to which model. **Don't forget to label your axes **.  \n",
    "\n",
    "**Explain what the learning curves reveal**."
   ]
  },
  {
   "cell_type": "code",
   "execution_count": null,
   "metadata": {
    "collapsed": true
   },
   "outputs": [],
   "source": [
    "\n",
    "from sklearn.model_selection import train_test_split\n",
    "sample_sizes = [.1, .2, .4, .8, .9]\n",
    "\n",
    "\n",
    "\n",
    "\n",
    "\n"
   ]
  },
  {
   "cell_type": "markdown",
   "metadata": {},
   "source": [
    "### Part 3: Find the best model: **GRID SEARCH**\n",
    "\n",
    "Ok. So sklearn provides a function that searches for the best modeling paramenters, as you did above.  This is very much \"machine learning style\" modeling, where as much as possible is inferred from the data--in particular, even the right values for the modeling parameters.\n",
    "\n",
    "1\\. Use the sklearn function GridSearchCV to perform a grid search. This is a search through the modeling parameters that we have been using before (e.g. regularization \"c\", min_samples_split, ...). They are called \"hyper-parameters\" and we want to find the best coombination of them for our model (not individually like we did it before).   \n",
    "\n",
    "This grid-search function uses a Python **dictionary** to lay out the values that we want to search among. \n",
    "\n",
    "Then, using the same lists of values that you used above (e.g. all the min_samples_split of Part2, question1), create a dictionary and use it for the grid search.\n",
    "\n",
    "Example: GridSearchCV( DecisionTreeClassifier(), parameters_dictionary )\n",
    "\n",
    "[You can find the documentation here](http://scikit-learn.org/stable/modules/generated/sklearn.model_selection.GridSearchCV.html#sklearn.model_selection.GridSearchCV)\n"
   ]
  },
  {
   "cell_type": "code",
   "execution_count": null,
   "metadata": {
    "collapsed": true
   },
   "outputs": [],
   "source": [
    "\n",
    "from sklearn.model_selection import GridSearchCV\n",
    "\n",
    "\n",
    "\n",
    "\n",
    "\n"
   ]
  },
  {
   "cell_type": "markdown",
   "metadata": {},
   "source": [
    "2\\. Which are the best values for regularization and min_samples_split with this function? Did they change?"
   ]
  },
  {
   "cell_type": "code",
   "execution_count": null,
   "metadata": {
    "collapsed": false
   },
   "outputs": [],
   "source": [
    "\n",
    "\n",
    "\n",
    "\n"
   ]
  },
  {
   "cell_type": "markdown",
   "metadata": {},
   "source": [
    "3\\. Evaluate the grid search again but this time include in the dictionary for logistic regression a list with penalty 'l1' and 'l2'. Also, for the decision tree, include a list of values for \"min_samples_leaf= [100, 200, 300, 400, 500, 1000]\". \n",
    "\n",
    "**What is the best selection for logistic regression and decision tree now?**"
   ]
  },
  {
   "cell_type": "code",
   "execution_count": null,
   "metadata": {
    "collapsed": false
   },
   "outputs": [],
   "source": [
    "\n",
    "\n",
    "\n",
    "\n",
    "\n",
    "\n",
    "\n",
    "\n",
    "\n",
    "\n",
    "\n",
    "\n",
    "\n",
    "\n"
   ]
  },
  {
   "cell_type": "markdown",
   "metadata": {},
   "source": [
    "*Ok.  One last thing.  In the above analysis, although we found a set of best parameters, we chose them from performance over many cross-validations.  Thus, we made modeling decisions using the test sets.  That's fine for choosing the hyperparameters, but compromises our estimates of the final accuracy (which you did not report).  Technically, if we want good estimates of the accuracy of the resultant models, we should do our evaluation on a test set that was not used to make *any* modeling decisions.  The book discusses \"nested cross-validation\" as a technique to accomplish this.  This is not required for the homework, but if you want to challenge yourself to do what a top-notch data scientist would do, use nested cross-validation to do the grid search for the best parameters *using data only from the training folds*, and then build the model for the test folds with the chosen parameter.  Or, alternatively, hold out a final test set at the beginning for the final testing.*  \n"
   ]
  },
  {
   "cell_type": "markdown",
   "metadata": {},
   "source": [
    "No answer required."
   ]
  }
 ],
 "metadata": {
  "kernelspec": {
   "display_name": "Python 3",
   "language": "python",
   "name": "python3"
  },
  "language_info": {
   "codemirror_mode": {
    "name": "ipython",
    "version": 3
   },
   "file_extension": ".py",
   "mimetype": "text/x-python",
   "name": "python",
   "nbconvert_exporter": "python",
   "pygments_lexer": "ipython3",
   "version": "3.5.2"
  }
 },
 "nbformat": 4,
 "nbformat_minor": 0
}
