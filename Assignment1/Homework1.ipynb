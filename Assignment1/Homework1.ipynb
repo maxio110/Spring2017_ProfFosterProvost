{
 "cells": [
  {
   "cell_type": "markdown",
   "metadata": {},
   "source": [
    "# Introduction to Data Science\n",
    "## Homework 1 - A quick tour of Python \n",
    "\n",
    "Student Name: Xiang Wang\n",
    "\n",
    "Student Netid: xw1173\n",
    "\n",
    "***"
   ]
  },
  {
   "cell_type": "markdown",
   "metadata": {},
   "source": [
    "### Part 1: Finish the hands-on lab from the first class:"
   ]
  },
  {
   "cell_type": "markdown",
   "metadata": {},
   "source": [
    "To exercise your skill with Python, you should complete the following. "
   ]
  },
  {
   "cell_type": "markdown",
   "metadata": {},
   "source": [
    "**0\\. Import numpy **"
   ]
  },
  {
   "cell_type": "code",
   "execution_count": null,
   "metadata": {
    "collapsed": true
   },
   "outputs": [],
   "source": [
    "import numpy as np"
   ]
  },
  {
   "cell_type": "markdown",
   "metadata": {},
   "source": [
    "**1\\. Create one Python list of 5 fruits and another one with 5 colors**"
   ]
  },
  {
   "cell_type": "code",
   "execution_count": null,
   "metadata": {
    "collapsed": false
   },
   "outputs": [],
   "source": [
    "fruit = ['apple', 'pear', 'banana', 'peach', 'pineapple']\n",
    "color = ['red', 'white', 'yellow', 'pink','brown']"
   ]
  },
  {
   "cell_type": "markdown",
   "metadata": {},
   "source": [
    "**2\\. Go through each fruit (first list) and print out the name of the fruit with one color of the second list **\n",
    "\n",
    "(don't worry, it doesn't have to be the color of the fruit!)\n",
    "\n",
    "Example of what you should print:  _apple is purple_"
   ]
  },
  {
   "cell_type": "code",
   "execution_count": null,
   "metadata": {
    "collapsed": false
   },
   "outputs": [],
   "source": [
    "for i in range(0, 3):\n",
    "    print(fruit[i] + ' is ' + color[i])"
   ]
  },
  {
   "cell_type": "markdown",
   "metadata": {},
   "source": [
    "**3\\. Add two new fruits to your list with a _BUILT-IN_ function **\n",
    "\n",
    "( Look for the function with the **TAB** hint! )"
   ]
  },
  {
   "cell_type": "code",
   "execution_count": null,
   "metadata": {
    "collapsed": false
   },
   "outputs": [],
   "source": [
    "fruit.append('orange')\n",
    "fruit.append('watermelon')"
   ]
  },
  {
   "cell_type": "markdown",
   "metadata": {},
   "source": [
    "**4\\. Use the list of fruits and sort the names (put them in alphabetical order) **\n",
    "\n",
    "( Hint: Numpy has a great function for that!)"
   ]
  },
  {
   "cell_type": "code",
   "execution_count": null,
   "metadata": {
    "collapsed": false
   },
   "outputs": [],
   "source": [
    "np.sort(fruit)"
   ]
  },
  {
   "cell_type": "markdown",
   "metadata": {},
   "source": [
    "**5\\. Create a new empty list called \"count_letters\". Go through your list of fruits, and for each one, add an entry to that new list (count_letters) telling the number of letters each fruit name.**\n",
    "\n",
    "Example of what you should print: _apple is 5 letters_\n"
   ]
  },
  {
   "cell_type": "code",
   "execution_count": null,
   "metadata": {
    "collapsed": false
   },
   "outputs": [],
   "source": [
    "count_letters = []\n",
    "for f in fruit:\n",
    "    count_letters.append(len(f))\n",
    "print(count_letters)"
   ]
  },
  {
   "cell_type": "markdown",
   "metadata": {},
   "source": [
    "** 6\\. Make a function called `one_more_change` that takes a list (input_list) and returns a new list (output_list) where each element of the original will be increased by 1 and divided by 2. **"
   ]
  },
  {
   "cell_type": "code",
   "execution_count": null,
   "metadata": {
    "collapsed": true
   },
   "outputs": [],
   "source": [
    "def one_more(input_list):\n",
    "    output_list = []\n",
    "    for i in input_list:\n",
    "        output_list.append((i + 1) / 2)\n",
    "    return output_list"
   ]
  },
  {
   "cell_type": "markdown",
   "metadata": {},
   "source": [
    "** 7\\. Use the previous function to change the value of a list of 10 random numbers. **"
   ]
  },
  {
   "cell_type": "code",
   "execution_count": null,
   "metadata": {
    "collapsed": false
   },
   "outputs": [],
   "source": [
    "test = [3,4,1,2,5,6,7,8,9,10]\n",
    "print(one_more(test))"
   ]
  },
  {
   "cell_type": "markdown",
   "metadata": {},
   "source": [
    "### Part 2: Pandas' DataFrame"
   ]
  },
  {
   "cell_type": "markdown",
   "metadata": {},
   "source": [
    "With this notebook, you will also find a file called: part-0001. This file is a **CSV** file that corresponds to trips in Yellow cabs (in NYC). Your goal is to **read** the file using dataframes, put the data in a variable called _\"trips\"_ and then try to answer the following questions:\n",
    "        \n",
    "   1. **How many records does this file have?**\n",
    "   \n",
    "   2. **Take a _random sample_ of 20 elements and try finding a pattern on the dropoffs' variables and the date-times**\n",
    "   (display here your sample and explain the patterns that you found)\n",
    "   \n",
    "   3. **What is the type of each column? All of them are strings? Integers? Display the type of each one**.\n",
    "   \n",
    "       \n",
    "       \n",
    "*** \n",
    "\n",
    "**Hints:**\n",
    "\n",
    "- Use the pandas library to open the file (remember to click on: Shift + Tab 4 times in the library 'pd' to look for functions or with the variable _trips_)\n",
    "- This file does not have name of columns, so you will need to use \"header=None\" in your function! But don't worry, I am including here the name of columns (in a list called column_names).\n"
   ]
  },
  {
   "cell_type": "code",
   "execution_count": null,
   "metadata": {
    "collapsed": true
   },
   "outputs": [],
   "source": [
    "import pandas as pd"
   ]
  },
  {
   "cell_type": "markdown",
   "metadata": {},
   "source": [
    "** Unzip and rename xaa.gz **\n",
    "- It seems part-00001.txt exceeds the upload limit while it has more data than this file"
   ]
  },
  {
   "cell_type": "code",
   "execution_count": null,
   "metadata": {
    "collapsed": true
   },
   "outputs": [],
   "source": [
    "!gunzip data/xaa.gz\n",
    "!mv data/xaa data/data.csv"
   ]
  },
  {
   "cell_type": "markdown",
   "metadata": {},
   "source": [
    "Not sure about the warning on \"Columns (21,23) have mixed types\", even if I do not use low_memory=False, the answer in Question 3 is not affected at all"
   ]
  },
  {
   "cell_type": "code",
   "execution_count": null,
   "metadata": {
    "collapsed": false,
    "scrolled": true
   },
   "outputs": [],
   "source": [
    "\n",
    "column_names = ['flag1','pickup_datetime','dropoff_datetime','passenger_count','trip_distance',\n",
    " 'pickup_longitude','pickup_latitude','flag2','flag3','dropoff_longitude','dropoff_latitude',\n",
    " 'payment_type','trip_amount','extra1','extra2','extra3','extra4','tip_amount','total_amount',\n",
    "'data_source','pickup_borough','pickup_zip_code','dropoff_borough','dropoff_zip_code']\n",
    "\n",
    "trips = pd.read_csv('data/data.csv', header=None) # low_memory=False ?\n",
    "trips.columns = column_names\n",
    "column_names\n",
    "trips.head()\n"
   ]
  },
  {
   "cell_type": "markdown",
   "metadata": {},
   "source": [
    "** Question 1: **"
   ]
  },
  {
   "cell_type": "code",
   "execution_count": null,
   "metadata": {
    "collapsed": false
   },
   "outputs": [],
   "source": [
    "## Question 1: Answers and code here! \n",
    "trips_size = len(trips)\n",
    "trips_size"
   ]
  },
  {
   "cell_type": "markdown",
   "metadata": {},
   "source": [
    "** Question 2: **\n",
    "___\n",
    "By randomly selecting 20 rows and filter out columns related to *dropoff*, I find that it seems :\n",
    "1. dropoff borough is always Brooklyn\n",
    "2. the longitude/latitude/zipcode are also related to Brooklyn. "
   ]
  },
  {
   "cell_type": "code",
   "execution_count": null,
   "metadata": {
    "collapsed": false
   },
   "outputs": [],
   "source": [
    "## Question 2: Answers and code here! \n",
    "import random\n",
    "dfs = []\n",
    "#dropoff_cols = [col for col in df.columns if 'dropoff' in col]\n",
    "for i in range(20):\n",
    "    df = trips.iloc[[random.randint(0, trips_size)]]\n",
    "    dfs.append(df)\n",
    "pd.concat(dfs).filter(like='dropoff')"
   ]
  },
  {
   "cell_type": "markdown",
   "metadata": {},
   "source": [
    "Still I select out distinct dropoff borough and prove the conclusion 1"
   ]
  },
  {
   "cell_type": "code",
   "execution_count": null,
   "metadata": {
    "collapsed": false
   },
   "outputs": [],
   "source": [
    "trips[['dropoff_borough']].drop_duplicates()"
   ]
  },
  {
   "cell_type": "markdown",
   "metadata": {},
   "source": [
    "** Question 3: **\n",
    "___\n",
    "Iterate each row and check the type for each element, and it seems each column has only one type"
   ]
  },
  {
   "cell_type": "code",
   "execution_count": null,
   "metadata": {
    "collapsed": false,
    "scrolled": true
   },
   "outputs": [],
   "source": [
    "## Question 3: Answers and code here! \n",
    "types = {}\n",
    "for name in column_names:\n",
    "    types[name] = set()\n",
    "for index, row in df.iterrows():\n",
    "    for name in column_names:\n",
    "        types[name].add(type(row[name]))\n",
    "types"
   ]
  },
  {
   "cell_type": "markdown",
   "metadata": {},
   "source": [
    "This is how the dataframe should look:"
   ]
  },
  {
   "cell_type": "code",
   "execution_count": null,
   "metadata": {
    "collapsed": false
   },
   "outputs": [],
   "source": [
    "\n",
    "trips.columns = column_names\n",
    "trips.head()\n"
   ]
  }
 ],
 "metadata": {
  "kernelspec": {
   "display_name": "Python 3",
   "language": "python",
   "name": "python3"
  },
  "language_info": {
   "codemirror_mode": {
    "name": "ipython",
    "version": 3
   },
   "file_extension": ".py",
   "mimetype": "text/x-python",
   "name": "python",
   "nbconvert_exporter": "python",
   "pygments_lexer": "ipython3",
   "version": "3.5.2"
  }
 },
 "nbformat": 4,
 "nbformat_minor": 0
}
