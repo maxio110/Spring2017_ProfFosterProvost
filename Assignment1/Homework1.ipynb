{
 "cells": [
  {
   "cell_type": "markdown",
   "metadata": {},
   "source": [
    "# Introduction to Data Science\n",
    "## Homework 1 - A quick tour of Python \n",
    "\n",
    "Student Name: Xiang Wang\n",
    "\n",
    "Student Netid: xw1173\n",
    "\n",
    "***"
   ]
  },
  {
   "cell_type": "markdown",
   "metadata": {},
   "source": [
    "### Part 1: Finish the hands-on lab from the first class:"
   ]
  },
  {
   "cell_type": "markdown",
   "metadata": {},
   "source": [
    "To exercise your skill with Python, you should complete the following. "
   ]
  },
  {
   "cell_type": "markdown",
   "metadata": {},
   "source": [
    "**0\\. Import numpy **"
   ]
  },
  {
   "cell_type": "code",
   "execution_count": 1,
   "metadata": {
    "collapsed": true
   },
   "outputs": [],
   "source": [
    "import numpy as np"
   ]
  },
  {
   "cell_type": "markdown",
   "metadata": {},
   "source": [
    "**1\\. Create one Python list of 5 fruits and another one with 5 colors**"
   ]
  },
  {
   "cell_type": "code",
   "execution_count": 2,
   "metadata": {
    "collapsed": false
   },
   "outputs": [],
   "source": [
    "fruit = ['apple', 'pear', 'banana', 'peach', 'pineapple']\n",
    "color = ['red', 'white', 'yellow', 'pink','brown']"
   ]
  },
  {
   "cell_type": "markdown",
   "metadata": {},
   "source": [
    "**2\\. Go through each fruit (first list) and print out the name of the fruit with one color of the second list **\n",
    "\n",
    "(don't worry, it doesn't have to be the color of the fruit!)\n",
    "\n",
    "Example of what you should print:  _apple is purple_"
   ]
  },
  {
   "cell_type": "code",
   "execution_count": 3,
   "metadata": {
    "collapsed": false
   },
   "outputs": [
    {
     "name": "stdout",
     "output_type": "stream",
     "text": [
      "apple is red\n",
      "pear is white\n",
      "banana is yellow\n"
     ]
    }
   ],
   "source": [
    "for i in range(0, 3):\n",
    "    print(fruit[i] + ' is ' + color[i])"
   ]
  },
  {
   "cell_type": "markdown",
   "metadata": {},
   "source": [
    "**3\\. Add two new fruits to your list with a _BUILT-IN_ function **\n",
    "\n",
    "( Look for the function with the **TAB** hint! )"
   ]
  },
  {
   "cell_type": "code",
   "execution_count": 4,
   "metadata": {
    "collapsed": false
   },
   "outputs": [],
   "source": [
    "fruit.append('orange')\n",
    "fruit.append('watermelon')"
   ]
  },
  {
   "cell_type": "markdown",
   "metadata": {},
   "source": [
    "**4\\. Use the list of fruits and sort the names (put them in alphabetical order) **\n",
    "\n",
    "( Hint: Numpy has a great function for that!)"
   ]
  },
  {
   "cell_type": "code",
   "execution_count": 5,
   "metadata": {
    "collapsed": false
   },
   "outputs": [
    {
     "data": {
      "text/plain": [
       "array(['apple', 'banana', 'orange', 'peach', 'pear', 'pineapple',\n",
       "       'watermelon'], \n",
       "      dtype='<U10')"
      ]
     },
     "execution_count": 5,
     "metadata": {},
     "output_type": "execute_result"
    }
   ],
   "source": [
    "np.sort(fruit)"
   ]
  },
  {
   "cell_type": "markdown",
   "metadata": {},
   "source": [
    "**5\\. Create a new empty list called \"count_letters\". Go through your list of fruits, and for each one, add an entry to that new list (count_letters) telling the number of letters each fruit name.**\n",
    "\n",
    "Example of what you should print: _apple is 5 letters_\n"
   ]
  },
  {
   "cell_type": "code",
   "execution_count": 6,
   "metadata": {
    "collapsed": false
   },
   "outputs": [
    {
     "name": "stdout",
     "output_type": "stream",
     "text": [
      "[5, 4, 6, 5, 9, 6, 10]\n"
     ]
    }
   ],
   "source": [
    "count_letters = []\n",
    "for f in fruit:\n",
    "    count_letters.append(len(f))\n",
    "print(count_letters)"
   ]
  },
  {
   "cell_type": "markdown",
   "metadata": {},
   "source": [
    "** 6\\. Make a function called `one_more_change` that takes a list (input_list) and returns a new list (output_list) where each element of the original will be increased by 1 and divided by 2. **"
   ]
  },
  {
   "cell_type": "code",
   "execution_count": 7,
   "metadata": {
    "collapsed": true
   },
   "outputs": [],
   "source": [
    "def one_more(input_list):\n",
    "    output_list = []\n",
    "    for i in input_list:\n",
    "        output_list.append((i + 1) / 2)\n",
    "    return output_list"
   ]
  },
  {
   "cell_type": "markdown",
   "metadata": {},
   "source": [
    "** 7\\. Use the previous function to change the value of a list of 10 random numbers. **"
   ]
  },
  {
   "cell_type": "code",
   "execution_count": 8,
   "metadata": {
    "collapsed": false
   },
   "outputs": [
    {
     "name": "stdout",
     "output_type": "stream",
     "text": [
      "[2.0, 2.5, 1.0, 1.5, 3.0, 3.5, 4.0, 4.5, 5.0, 5.5]\n"
     ]
    }
   ],
   "source": [
    "test = [3,4,1,2,5,6,7,8,9,10]\n",
    "print(one_more(test))"
   ]
  },
  {
   "cell_type": "markdown",
   "metadata": {},
   "source": [
    "### Part 2: Pandas' DataFrame"
   ]
  },
  {
   "cell_type": "markdown",
   "metadata": {},
   "source": [
    "With this notebook, you will also find a file called: part-0001. This file is a **CSV** file that corresponds to trips in Yellow cabs (in NYC). Your goal is to **read** the file using dataframes, put the data in a variable called _\"trips\"_ and then try to answer the following questions:\n",
    "        \n",
    "   1. **How many records does this file have?**\n",
    "   \n",
    "   2. **Take a _random sample_ of 20 elements and try finding a pattern on the dropoffs' variables and the date-times**\n",
    "   (display here your sample and explain the patterns that you found)\n",
    "   \n",
    "   3. **What is the type of each column? All of them are strings? Integers? Display the type of each one**.\n",
    "   \n",
    "       \n",
    "       \n",
    "*** \n",
    "\n",
    "**Hints:**\n",
    "\n",
    "- Use the pandas library to open the file (remember to click on: Shift + Tab 4 times in the library 'pd' to look for functions or with the variable _trips_)\n",
    "- This file does not have name of columns, so you will need to use \"header=None\" in your function! But don't worry, I am including here the name of columns (in a list called column_names).\n"
   ]
  },
  {
   "cell_type": "code",
   "execution_count": 9,
   "metadata": {
    "collapsed": true
   },
   "outputs": [],
   "source": [
    "import pandas as pd"
   ]
  },
  {
   "cell_type": "markdown",
   "metadata": {},
   "source": [
    "** Unzip and rename xaa.gz **\n",
    "- It seems part-00001.txt exceeds the upload limit while it has more data than this file"
   ]
  },
  {
   "cell_type": "code",
   "execution_count": 10,
   "metadata": {
    "collapsed": false
   },
   "outputs": [
    {
     "name": "stdout",
     "output_type": "stream",
     "text": [
      "gzip: data/xaa.gz: No such file or directory\n",
      "mv: cannot stat 'data/xaa': No such file or directory\n"
     ]
    }
   ],
   "source": [
    "!gunzip data/xaa.gz\n",
    "!mv data/xaa data/data.csv"
   ]
  },
  {
   "cell_type": "markdown",
   "metadata": {},
   "source": [
    "Not sure about the warning on \"Columns (21,23) have mixed types\", even if I do not use low_memory=False, the answer in Question 3 is not affected at all"
   ]
  },
  {
   "cell_type": "code",
   "execution_count": 11,
   "metadata": {
    "collapsed": false,
    "scrolled": true
   },
   "outputs": [
    {
     "name": "stderr",
     "output_type": "stream",
     "text": [
      "/usr/local/lib/python3.5/dist-packages/IPython/core/interactiveshell.py:2717: DtypeWarning: Columns (21,23) have mixed types. Specify dtype option on import or set low_memory=False.\n",
      "  interactivity=interactivity, compiler=compiler, result=result)\n"
     ]
    },
    {
     "data": {
      "text/html": [
       "<div>\n",
       "<table border=\"1\" class=\"dataframe\">\n",
       "  <thead>\n",
       "    <tr style=\"text-align: right;\">\n",
       "      <th></th>\n",
       "      <th>flag1</th>\n",
       "      <th>pickup_datetime</th>\n",
       "      <th>dropoff_datetime</th>\n",
       "      <th>passenger_count</th>\n",
       "      <th>trip_distance</th>\n",
       "      <th>pickup_longitude</th>\n",
       "      <th>pickup_latitude</th>\n",
       "      <th>flag2</th>\n",
       "      <th>flag3</th>\n",
       "      <th>dropoff_longitude</th>\n",
       "      <th>...</th>\n",
       "      <th>extra2</th>\n",
       "      <th>extra3</th>\n",
       "      <th>extra4</th>\n",
       "      <th>tip_amount</th>\n",
       "      <th>total_amount</th>\n",
       "      <th>data_source</th>\n",
       "      <th>pickup_borough</th>\n",
       "      <th>pickup_zip_code</th>\n",
       "      <th>dropoff_borough</th>\n",
       "      <th>dropoff_zip_code</th>\n",
       "    </tr>\n",
       "  </thead>\n",
       "  <tbody>\n",
       "    <tr>\n",
       "      <th>0</th>\n",
       "      <td>1</td>\n",
       "      <td>2015-03-07 05:04:29</td>\n",
       "      <td>2015-03-07 05:46:50</td>\n",
       "      <td>1</td>\n",
       "      <td>22.60</td>\n",
       "      <td>-73.861183</td>\n",
       "      <td>40.894665</td>\n",
       "      <td>1</td>\n",
       "      <td>N</td>\n",
       "      <td>-73.961784</td>\n",
       "      <td>...</td>\n",
       "      <td>0.5</td>\n",
       "      <td>0.00</td>\n",
       "      <td>0.00</td>\n",
       "      <td>0.30</td>\n",
       "      <td>64.30</td>\n",
       "      <td>Y</td>\n",
       "      <td>Bronx</td>\n",
       "      <td>10466</td>\n",
       "      <td>Brooklyn</td>\n",
       "      <td>11238\\t</td>\n",
       "    </tr>\n",
       "    <tr>\n",
       "      <th>1</th>\n",
       "      <td>1</td>\n",
       "      <td>2015-03-01 02:49:59</td>\n",
       "      <td>2015-03-01 03:29:30</td>\n",
       "      <td>2</td>\n",
       "      <td>15.00</td>\n",
       "      <td>-73.917053</td>\n",
       "      <td>40.829521</td>\n",
       "      <td>1</td>\n",
       "      <td>N</td>\n",
       "      <td>-73.919952</td>\n",
       "      <td>...</td>\n",
       "      <td>0.5</td>\n",
       "      <td>0.01</td>\n",
       "      <td>0.00</td>\n",
       "      <td>0.30</td>\n",
       "      <td>45.81</td>\n",
       "      <td>Y</td>\n",
       "      <td>Bronx</td>\n",
       "      <td>10456</td>\n",
       "      <td>Brooklyn</td>\n",
       "      <td>11221\\t</td>\n",
       "    </tr>\n",
       "    <tr>\n",
       "      <th>2</th>\n",
       "      <td>2</td>\n",
       "      <td>2015-03-29 08:37:45</td>\n",
       "      <td>2015-03-29 09:10:21</td>\n",
       "      <td>1</td>\n",
       "      <td>15.50</td>\n",
       "      <td>-73.886444</td>\n",
       "      <td>40.834187</td>\n",
       "      <td>1</td>\n",
       "      <td>N</td>\n",
       "      <td>-73.927361</td>\n",
       "      <td>...</td>\n",
       "      <td>0.5</td>\n",
       "      <td>0.30</td>\n",
       "      <td>5.00</td>\n",
       "      <td>5.54</td>\n",
       "      <td>56.84</td>\n",
       "      <td>G</td>\n",
       "      <td>Bronx</td>\n",
       "      <td>10460</td>\n",
       "      <td>Brooklyn</td>\n",
       "      <td>11221\\t</td>\n",
       "    </tr>\n",
       "    <tr>\n",
       "      <th>3</th>\n",
       "      <td>2</td>\n",
       "      <td>2015-03-02 00:44:05</td>\n",
       "      <td>2015-03-02 01:18:40</td>\n",
       "      <td>1</td>\n",
       "      <td>16.69</td>\n",
       "      <td>-73.919388</td>\n",
       "      <td>40.807316</td>\n",
       "      <td>1</td>\n",
       "      <td>N</td>\n",
       "      <td>-73.920135</td>\n",
       "      <td>...</td>\n",
       "      <td>0.5</td>\n",
       "      <td>0.30</td>\n",
       "      <td>0.00</td>\n",
       "      <td>0.00</td>\n",
       "      <td>47.30</td>\n",
       "      <td>G</td>\n",
       "      <td>Bronx</td>\n",
       "      <td>10454</td>\n",
       "      <td>Brooklyn</td>\n",
       "      <td>11233\\t</td>\n",
       "    </tr>\n",
       "    <tr>\n",
       "      <th>4</th>\n",
       "      <td>2</td>\n",
       "      <td>2015-03-12 22:50:09</td>\n",
       "      <td>2015-03-12 23:34:50</td>\n",
       "      <td>6</td>\n",
       "      <td>18.59</td>\n",
       "      <td>-73.888283</td>\n",
       "      <td>40.853603</td>\n",
       "      <td>1</td>\n",
       "      <td>N</td>\n",
       "      <td>-73.985352</td>\n",
       "      <td>...</td>\n",
       "      <td>0.5</td>\n",
       "      <td>0.30</td>\n",
       "      <td>10.96</td>\n",
       "      <td>0.00</td>\n",
       "      <td>65.76</td>\n",
       "      <td>G</td>\n",
       "      <td>Bronx</td>\n",
       "      <td>10458</td>\n",
       "      <td>Brooklyn</td>\n",
       "      <td>11217\\t</td>\n",
       "    </tr>\n",
       "  </tbody>\n",
       "</table>\n",
       "<p>5 rows × 24 columns</p>\n",
       "</div>"
      ],
      "text/plain": [
       "   flag1      pickup_datetime     dropoff_datetime  passenger_count  \\\n",
       "0      1  2015-03-07 05:04:29  2015-03-07 05:46:50                1   \n",
       "1      1  2015-03-01 02:49:59  2015-03-01 03:29:30                2   \n",
       "2      2  2015-03-29 08:37:45  2015-03-29 09:10:21                1   \n",
       "3      2  2015-03-02 00:44:05  2015-03-02 01:18:40                1   \n",
       "4      2  2015-03-12 22:50:09  2015-03-12 23:34:50                6   \n",
       "\n",
       "   trip_distance  pickup_longitude  pickup_latitude  flag2 flag3  \\\n",
       "0          22.60        -73.861183        40.894665      1     N   \n",
       "1          15.00        -73.917053        40.829521      1     N   \n",
       "2          15.50        -73.886444        40.834187      1     N   \n",
       "3          16.69        -73.919388        40.807316      1     N   \n",
       "4          18.59        -73.888283        40.853603      1     N   \n",
       "\n",
       "   dropoff_longitude       ...         extra2  extra3  extra4  tip_amount  \\\n",
       "0         -73.961784       ...            0.5    0.00    0.00        0.30   \n",
       "1         -73.919952       ...            0.5    0.01    0.00        0.30   \n",
       "2         -73.927361       ...            0.5    0.30    5.00        5.54   \n",
       "3         -73.920135       ...            0.5    0.30    0.00        0.00   \n",
       "4         -73.985352       ...            0.5    0.30   10.96        0.00   \n",
       "\n",
       "   total_amount  data_source  pickup_borough  pickup_zip_code  \\\n",
       "0         64.30            Y           Bronx            10466   \n",
       "1         45.81            Y           Bronx            10456   \n",
       "2         56.84            G           Bronx            10460   \n",
       "3         47.30            G           Bronx            10454   \n",
       "4         65.76            G           Bronx            10458   \n",
       "\n",
       "   dropoff_borough dropoff_zip_code  \n",
       "0         Brooklyn          11238\\t  \n",
       "1         Brooklyn          11221\\t  \n",
       "2         Brooklyn          11221\\t  \n",
       "3         Brooklyn          11233\\t  \n",
       "4         Brooklyn          11217\\t  \n",
       "\n",
       "[5 rows x 24 columns]"
      ]
     },
     "execution_count": 11,
     "metadata": {},
     "output_type": "execute_result"
    }
   ],
   "source": [
    "\n",
    "column_names = ['flag1','pickup_datetime','dropoff_datetime','passenger_count','trip_distance',\n",
    " 'pickup_longitude','pickup_latitude','flag2','flag3','dropoff_longitude','dropoff_latitude',\n",
    " 'payment_type','trip_amount','extra1','extra2','extra3','extra4','tip_amount','total_amount',\n",
    "'data_source','pickup_borough','pickup_zip_code','dropoff_borough','dropoff_zip_code']\n",
    "\n",
    "trips = pd.read_csv('data/data.csv', header=None) # low_memory=False ?\n",
    "trips.columns = column_names\n",
    "column_names\n",
    "trips.head()\n"
   ]
  },
  {
   "cell_type": "markdown",
   "metadata": {},
   "source": [
    "** Question 1: **"
   ]
  },
  {
   "cell_type": "code",
   "execution_count": 12,
   "metadata": {
    "collapsed": false
   },
   "outputs": [
    {
     "data": {
      "text/plain": [
       "500000"
      ]
     },
     "execution_count": 12,
     "metadata": {},
     "output_type": "execute_result"
    }
   ],
   "source": [
    "## Question 1: Answers and code here! \n",
    "trips_size = len(trips)\n",
    "trips_size"
   ]
  },
  {
   "cell_type": "markdown",
   "metadata": {},
   "source": [
    "** Question 2: **\n",
    "___\n",
    "By randomly selecting 20 rows and filter out columns related to *dropoff*, I find that it seems :\n",
    "1. dropoff borough is always Brooklyn\n",
    "2. the longitude/latitude/zipcode are also related to Brooklyn. "
   ]
  },
  {
   "cell_type": "code",
   "execution_count": 13,
   "metadata": {
    "collapsed": false
   },
   "outputs": [
    {
     "data": {
      "text/html": [
       "<div>\n",
       "<table border=\"1\" class=\"dataframe\">\n",
       "  <thead>\n",
       "    <tr style=\"text-align: right;\">\n",
       "      <th></th>\n",
       "      <th>dropoff_datetime</th>\n",
       "      <th>dropoff_longitude</th>\n",
       "      <th>dropoff_latitude</th>\n",
       "      <th>dropoff_borough</th>\n",
       "      <th>dropoff_zip_code</th>\n",
       "    </tr>\n",
       "  </thead>\n",
       "  <tbody>\n",
       "    <tr>\n",
       "      <th>318716</th>\n",
       "      <td>2015-03-25 01:52:08</td>\n",
       "      <td>-73.934387</td>\n",
       "      <td>40.662178</td>\n",
       "      <td>Brooklyn</td>\n",
       "      <td>11203\\t</td>\n",
       "    </tr>\n",
       "    <tr>\n",
       "      <th>218438</th>\n",
       "      <td>2015-03-10 06:42:26</td>\n",
       "      <td>-74.002480</td>\n",
       "      <td>40.577591</td>\n",
       "      <td>Brooklyn</td>\n",
       "      <td>11224\\t</td>\n",
       "    </tr>\n",
       "    <tr>\n",
       "      <th>333312</th>\n",
       "      <td>2015-03-23 18:23:01</td>\n",
       "      <td>-73.989319</td>\n",
       "      <td>40.587467</td>\n",
       "      <td>Brooklyn</td>\n",
       "      <td>11214\\t</td>\n",
       "    </tr>\n",
       "    <tr>\n",
       "      <th>387690</th>\n",
       "      <td>2015-03-08 01:22:07</td>\n",
       "      <td>-73.934052</td>\n",
       "      <td>40.666832</td>\n",
       "      <td>Brooklyn</td>\n",
       "      <td>11213\\t</td>\n",
       "    </tr>\n",
       "    <tr>\n",
       "      <th>86703</th>\n",
       "      <td>2015-03-12 17:09:04</td>\n",
       "      <td>-73.984230</td>\n",
       "      <td>40.691113</td>\n",
       "      <td>Brooklyn</td>\n",
       "      <td>11201\\t</td>\n",
       "    </tr>\n",
       "    <tr>\n",
       "      <th>339670</th>\n",
       "      <td>2015-03-19 23:06:50</td>\n",
       "      <td>-73.983269</td>\n",
       "      <td>40.694939</td>\n",
       "      <td>Brooklyn</td>\n",
       "      <td>11201\\t</td>\n",
       "    </tr>\n",
       "    <tr>\n",
       "      <th>133786</th>\n",
       "      <td>2015-03-01 14:38:21</td>\n",
       "      <td>-73.996964</td>\n",
       "      <td>40.693073</td>\n",
       "      <td>Brooklyn</td>\n",
       "      <td>11201\\t</td>\n",
       "    </tr>\n",
       "    <tr>\n",
       "      <th>126237</th>\n",
       "      <td>2015-03-24 09:25:08</td>\n",
       "      <td>-73.884644</td>\n",
       "      <td>40.663631</td>\n",
       "      <td>Brooklyn</td>\n",
       "      <td>11207\\t</td>\n",
       "    </tr>\n",
       "    <tr>\n",
       "      <th>362847</th>\n",
       "      <td>2015-03-21 01:36:20</td>\n",
       "      <td>-73.957619</td>\n",
       "      <td>40.732033</td>\n",
       "      <td>Brooklyn</td>\n",
       "      <td>11222\\t</td>\n",
       "    </tr>\n",
       "    <tr>\n",
       "      <th>121496</th>\n",
       "      <td>2015-03-06 23:33:46</td>\n",
       "      <td>-73.967964</td>\n",
       "      <td>40.707710</td>\n",
       "      <td>Brooklyn</td>\n",
       "      <td>11211\\t</td>\n",
       "    </tr>\n",
       "    <tr>\n",
       "      <th>376007</th>\n",
       "      <td>2015-03-03 01:37:12</td>\n",
       "      <td>-73.958015</td>\n",
       "      <td>40.670498</td>\n",
       "      <td>Brooklyn</td>\n",
       "      <td>11225\\t</td>\n",
       "    </tr>\n",
       "    <tr>\n",
       "      <th>187618</th>\n",
       "      <td>2015-03-07 00:03:33</td>\n",
       "      <td>-74.035423</td>\n",
       "      <td>40.613670</td>\n",
       "      <td>Brooklyn</td>\n",
       "      <td>11209\\t</td>\n",
       "    </tr>\n",
       "    <tr>\n",
       "      <th>426085</th>\n",
       "      <td>2015-03-20 23:29:27</td>\n",
       "      <td>-73.964958</td>\n",
       "      <td>40.676914</td>\n",
       "      <td>Brooklyn</td>\n",
       "      <td>11238</td>\n",
       "    </tr>\n",
       "    <tr>\n",
       "      <th>377024</th>\n",
       "      <td>2015-03-21 06:46:52</td>\n",
       "      <td>-74.013351</td>\n",
       "      <td>40.676991</td>\n",
       "      <td>Brooklyn</td>\n",
       "      <td>11231\\t</td>\n",
       "    </tr>\n",
       "    <tr>\n",
       "      <th>209368</th>\n",
       "      <td>2015-03-22 12:16:01</td>\n",
       "      <td>-73.922173</td>\n",
       "      <td>40.673031</td>\n",
       "      <td>Brooklyn</td>\n",
       "      <td>11233\\t</td>\n",
       "    </tr>\n",
       "    <tr>\n",
       "      <th>165325</th>\n",
       "      <td>2015-03-29 15:16:59</td>\n",
       "      <td>-73.962814</td>\n",
       "      <td>40.717396</td>\n",
       "      <td>Brooklyn</td>\n",
       "      <td>11211\\t</td>\n",
       "    </tr>\n",
       "    <tr>\n",
       "      <th>180113</th>\n",
       "      <td>2015-03-04 20:06:44</td>\n",
       "      <td>-73.881454</td>\n",
       "      <td>40.680954</td>\n",
       "      <td>Brooklyn</td>\n",
       "      <td>11208\\t</td>\n",
       "    </tr>\n",
       "    <tr>\n",
       "      <th>282330</th>\n",
       "      <td>2015-03-11 00:24:50</td>\n",
       "      <td>-74.007004</td>\n",
       "      <td>40.676250</td>\n",
       "      <td>Brooklyn</td>\n",
       "      <td>11231\\t</td>\n",
       "    </tr>\n",
       "    <tr>\n",
       "      <th>148977</th>\n",
       "      <td>2015-03-28 20:10:21</td>\n",
       "      <td>-73.952827</td>\n",
       "      <td>40.714081</td>\n",
       "      <td>Brooklyn</td>\n",
       "      <td>11211\\t</td>\n",
       "    </tr>\n",
       "    <tr>\n",
       "      <th>318260</th>\n",
       "      <td>2015-03-24 21:01:12</td>\n",
       "      <td>-73.971008</td>\n",
       "      <td>40.693573</td>\n",
       "      <td>Brooklyn</td>\n",
       "      <td>11205\\t</td>\n",
       "    </tr>\n",
       "  </tbody>\n",
       "</table>\n",
       "</div>"
      ],
      "text/plain": [
       "           dropoff_datetime  dropoff_longitude  dropoff_latitude  \\\n",
       "318716  2015-03-25 01:52:08         -73.934387         40.662178   \n",
       "218438  2015-03-10 06:42:26         -74.002480         40.577591   \n",
       "333312  2015-03-23 18:23:01         -73.989319         40.587467   \n",
       "387690  2015-03-08 01:22:07         -73.934052         40.666832   \n",
       "86703   2015-03-12 17:09:04         -73.984230         40.691113   \n",
       "339670  2015-03-19 23:06:50         -73.983269         40.694939   \n",
       "133786  2015-03-01 14:38:21         -73.996964         40.693073   \n",
       "126237  2015-03-24 09:25:08         -73.884644         40.663631   \n",
       "362847  2015-03-21 01:36:20         -73.957619         40.732033   \n",
       "121496  2015-03-06 23:33:46         -73.967964         40.707710   \n",
       "376007  2015-03-03 01:37:12         -73.958015         40.670498   \n",
       "187618  2015-03-07 00:03:33         -74.035423         40.613670   \n",
       "426085  2015-03-20 23:29:27         -73.964958         40.676914   \n",
       "377024  2015-03-21 06:46:52         -74.013351         40.676991   \n",
       "209368  2015-03-22 12:16:01         -73.922173         40.673031   \n",
       "165325  2015-03-29 15:16:59         -73.962814         40.717396   \n",
       "180113  2015-03-04 20:06:44         -73.881454         40.680954   \n",
       "282330  2015-03-11 00:24:50         -74.007004         40.676250   \n",
       "148977  2015-03-28 20:10:21         -73.952827         40.714081   \n",
       "318260  2015-03-24 21:01:12         -73.971008         40.693573   \n",
       "\n",
       "       dropoff_borough dropoff_zip_code  \n",
       "318716        Brooklyn          11203\\t  \n",
       "218438        Brooklyn          11224\\t  \n",
       "333312        Brooklyn          11214\\t  \n",
       "387690        Brooklyn          11213\\t  \n",
       "86703         Brooklyn          11201\\t  \n",
       "339670        Brooklyn          11201\\t  \n",
       "133786        Brooklyn          11201\\t  \n",
       "126237        Brooklyn          11207\\t  \n",
       "362847        Brooklyn          11222\\t  \n",
       "121496        Brooklyn          11211\\t  \n",
       "376007        Brooklyn          11225\\t  \n",
       "187618        Brooklyn          11209\\t  \n",
       "426085        Brooklyn            11238  \n",
       "377024        Brooklyn          11231\\t  \n",
       "209368        Brooklyn          11233\\t  \n",
       "165325        Brooklyn          11211\\t  \n",
       "180113        Brooklyn          11208\\t  \n",
       "282330        Brooklyn          11231\\t  \n",
       "148977        Brooklyn          11211\\t  \n",
       "318260        Brooklyn          11205\\t  "
      ]
     },
     "execution_count": 13,
     "metadata": {},
     "output_type": "execute_result"
    }
   ],
   "source": [
    "## Question 2: Answers and code here! \n",
    "import random\n",
    "dfs = []\n",
    "#dropoff_cols = [col for col in df.columns if 'dropoff' in col]\n",
    "for i in range(20):\n",
    "    df = trips.iloc[[random.randint(0, trips_size)]]\n",
    "    dfs.append(df)\n",
    "pd.concat(dfs).filter(like='dropoff')"
   ]
  },
  {
   "cell_type": "markdown",
   "metadata": {},
   "source": [
    "Still I select out distinct dropoff borough and prove the conclusion 1"
   ]
  },
  {
   "cell_type": "code",
   "execution_count": 14,
   "metadata": {
    "collapsed": false
   },
   "outputs": [
    {
     "data": {
      "text/html": [
       "<div>\n",
       "<table border=\"1\" class=\"dataframe\">\n",
       "  <thead>\n",
       "    <tr style=\"text-align: right;\">\n",
       "      <th></th>\n",
       "      <th>dropoff_borough</th>\n",
       "    </tr>\n",
       "  </thead>\n",
       "  <tbody>\n",
       "    <tr>\n",
       "      <th>0</th>\n",
       "      <td>Brooklyn</td>\n",
       "    </tr>\n",
       "  </tbody>\n",
       "</table>\n",
       "</div>"
      ],
      "text/plain": [
       "  dropoff_borough\n",
       "0        Brooklyn"
      ]
     },
     "execution_count": 14,
     "metadata": {},
     "output_type": "execute_result"
    }
   ],
   "source": [
    "trips[['dropoff_borough']].drop_duplicates()"
   ]
  },
  {
   "cell_type": "markdown",
   "metadata": {},
   "source": [
    "** Question 3: **\n",
    "___\n",
    "Iterate each row and check the type for each element, and it seems each column has only one type"
   ]
  },
  {
   "cell_type": "code",
   "execution_count": 15,
   "metadata": {
    "collapsed": false,
    "scrolled": true
   },
   "outputs": [
    {
     "data": {
      "text/plain": [
       "{'data_source': {str},\n",
       " 'dropoff_borough': {str},\n",
       " 'dropoff_datetime': {str},\n",
       " 'dropoff_latitude': {float},\n",
       " 'dropoff_longitude': {float},\n",
       " 'dropoff_zip_code': {str},\n",
       " 'extra1': {float},\n",
       " 'extra2': {float},\n",
       " 'extra3': {float},\n",
       " 'extra4': {float},\n",
       " 'flag1': {int},\n",
       " 'flag2': {int},\n",
       " 'flag3': {str},\n",
       " 'passenger_count': {int},\n",
       " 'payment_type': {int},\n",
       " 'pickup_borough': {str},\n",
       " 'pickup_datetime': {str},\n",
       " 'pickup_latitude': {float},\n",
       " 'pickup_longitude': {float},\n",
       " 'pickup_zip_code': {str},\n",
       " 'tip_amount': {float},\n",
       " 'total_amount': {float},\n",
       " 'trip_amount': {float},\n",
       " 'trip_distance': {float}}"
      ]
     },
     "execution_count": 15,
     "metadata": {},
     "output_type": "execute_result"
    }
   ],
   "source": [
    "## Question 3: Answers and code here! \n",
    "types = {}\n",
    "for name in column_names:\n",
    "    types[name] = set()\n",
    "for index, row in df.iterrows():\n",
    "    for name in column_names:\n",
    "        types[name].add(type(row[name]))\n",
    "types"
   ]
  },
  {
   "cell_type": "markdown",
   "metadata": {},
   "source": [
    "This is how the dataframe should look:"
   ]
  },
  {
   "cell_type": "code",
   "execution_count": 16,
   "metadata": {
    "collapsed": false
   },
   "outputs": [
    {
     "data": {
      "text/html": [
       "<div>\n",
       "<table border=\"1\" class=\"dataframe\">\n",
       "  <thead>\n",
       "    <tr style=\"text-align: right;\">\n",
       "      <th></th>\n",
       "      <th>flag1</th>\n",
       "      <th>pickup_datetime</th>\n",
       "      <th>dropoff_datetime</th>\n",
       "      <th>passenger_count</th>\n",
       "      <th>trip_distance</th>\n",
       "      <th>pickup_longitude</th>\n",
       "      <th>pickup_latitude</th>\n",
       "      <th>flag2</th>\n",
       "      <th>flag3</th>\n",
       "      <th>dropoff_longitude</th>\n",
       "      <th>...</th>\n",
       "      <th>extra2</th>\n",
       "      <th>extra3</th>\n",
       "      <th>extra4</th>\n",
       "      <th>tip_amount</th>\n",
       "      <th>total_amount</th>\n",
       "      <th>data_source</th>\n",
       "      <th>pickup_borough</th>\n",
       "      <th>pickup_zip_code</th>\n",
       "      <th>dropoff_borough</th>\n",
       "      <th>dropoff_zip_code</th>\n",
       "    </tr>\n",
       "  </thead>\n",
       "  <tbody>\n",
       "    <tr>\n",
       "      <th>0</th>\n",
       "      <td>1</td>\n",
       "      <td>2015-03-07 05:04:29</td>\n",
       "      <td>2015-03-07 05:46:50</td>\n",
       "      <td>1</td>\n",
       "      <td>22.60</td>\n",
       "      <td>-73.861183</td>\n",
       "      <td>40.894665</td>\n",
       "      <td>1</td>\n",
       "      <td>N</td>\n",
       "      <td>-73.961784</td>\n",
       "      <td>...</td>\n",
       "      <td>0.5</td>\n",
       "      <td>0.00</td>\n",
       "      <td>0.00</td>\n",
       "      <td>0.30</td>\n",
       "      <td>64.30</td>\n",
       "      <td>Y</td>\n",
       "      <td>Bronx</td>\n",
       "      <td>10466</td>\n",
       "      <td>Brooklyn</td>\n",
       "      <td>11238\\t</td>\n",
       "    </tr>\n",
       "    <tr>\n",
       "      <th>1</th>\n",
       "      <td>1</td>\n",
       "      <td>2015-03-01 02:49:59</td>\n",
       "      <td>2015-03-01 03:29:30</td>\n",
       "      <td>2</td>\n",
       "      <td>15.00</td>\n",
       "      <td>-73.917053</td>\n",
       "      <td>40.829521</td>\n",
       "      <td>1</td>\n",
       "      <td>N</td>\n",
       "      <td>-73.919952</td>\n",
       "      <td>...</td>\n",
       "      <td>0.5</td>\n",
       "      <td>0.01</td>\n",
       "      <td>0.00</td>\n",
       "      <td>0.30</td>\n",
       "      <td>45.81</td>\n",
       "      <td>Y</td>\n",
       "      <td>Bronx</td>\n",
       "      <td>10456</td>\n",
       "      <td>Brooklyn</td>\n",
       "      <td>11221\\t</td>\n",
       "    </tr>\n",
       "    <tr>\n",
       "      <th>2</th>\n",
       "      <td>2</td>\n",
       "      <td>2015-03-29 08:37:45</td>\n",
       "      <td>2015-03-29 09:10:21</td>\n",
       "      <td>1</td>\n",
       "      <td>15.50</td>\n",
       "      <td>-73.886444</td>\n",
       "      <td>40.834187</td>\n",
       "      <td>1</td>\n",
       "      <td>N</td>\n",
       "      <td>-73.927361</td>\n",
       "      <td>...</td>\n",
       "      <td>0.5</td>\n",
       "      <td>0.30</td>\n",
       "      <td>5.00</td>\n",
       "      <td>5.54</td>\n",
       "      <td>56.84</td>\n",
       "      <td>G</td>\n",
       "      <td>Bronx</td>\n",
       "      <td>10460</td>\n",
       "      <td>Brooklyn</td>\n",
       "      <td>11221\\t</td>\n",
       "    </tr>\n",
       "    <tr>\n",
       "      <th>3</th>\n",
       "      <td>2</td>\n",
       "      <td>2015-03-02 00:44:05</td>\n",
       "      <td>2015-03-02 01:18:40</td>\n",
       "      <td>1</td>\n",
       "      <td>16.69</td>\n",
       "      <td>-73.919388</td>\n",
       "      <td>40.807316</td>\n",
       "      <td>1</td>\n",
       "      <td>N</td>\n",
       "      <td>-73.920135</td>\n",
       "      <td>...</td>\n",
       "      <td>0.5</td>\n",
       "      <td>0.30</td>\n",
       "      <td>0.00</td>\n",
       "      <td>0.00</td>\n",
       "      <td>47.30</td>\n",
       "      <td>G</td>\n",
       "      <td>Bronx</td>\n",
       "      <td>10454</td>\n",
       "      <td>Brooklyn</td>\n",
       "      <td>11233\\t</td>\n",
       "    </tr>\n",
       "    <tr>\n",
       "      <th>4</th>\n",
       "      <td>2</td>\n",
       "      <td>2015-03-12 22:50:09</td>\n",
       "      <td>2015-03-12 23:34:50</td>\n",
       "      <td>6</td>\n",
       "      <td>18.59</td>\n",
       "      <td>-73.888283</td>\n",
       "      <td>40.853603</td>\n",
       "      <td>1</td>\n",
       "      <td>N</td>\n",
       "      <td>-73.985352</td>\n",
       "      <td>...</td>\n",
       "      <td>0.5</td>\n",
       "      <td>0.30</td>\n",
       "      <td>10.96</td>\n",
       "      <td>0.00</td>\n",
       "      <td>65.76</td>\n",
       "      <td>G</td>\n",
       "      <td>Bronx</td>\n",
       "      <td>10458</td>\n",
       "      <td>Brooklyn</td>\n",
       "      <td>11217\\t</td>\n",
       "    </tr>\n",
       "  </tbody>\n",
       "</table>\n",
       "<p>5 rows × 24 columns</p>\n",
       "</div>"
      ],
      "text/plain": [
       "   flag1      pickup_datetime     dropoff_datetime  passenger_count  \\\n",
       "0      1  2015-03-07 05:04:29  2015-03-07 05:46:50                1   \n",
       "1      1  2015-03-01 02:49:59  2015-03-01 03:29:30                2   \n",
       "2      2  2015-03-29 08:37:45  2015-03-29 09:10:21                1   \n",
       "3      2  2015-03-02 00:44:05  2015-03-02 01:18:40                1   \n",
       "4      2  2015-03-12 22:50:09  2015-03-12 23:34:50                6   \n",
       "\n",
       "   trip_distance  pickup_longitude  pickup_latitude  flag2 flag3  \\\n",
       "0          22.60        -73.861183        40.894665      1     N   \n",
       "1          15.00        -73.917053        40.829521      1     N   \n",
       "2          15.50        -73.886444        40.834187      1     N   \n",
       "3          16.69        -73.919388        40.807316      1     N   \n",
       "4          18.59        -73.888283        40.853603      1     N   \n",
       "\n",
       "   dropoff_longitude       ...         extra2  extra3  extra4  tip_amount  \\\n",
       "0         -73.961784       ...            0.5    0.00    0.00        0.30   \n",
       "1         -73.919952       ...            0.5    0.01    0.00        0.30   \n",
       "2         -73.927361       ...            0.5    0.30    5.00        5.54   \n",
       "3         -73.920135       ...            0.5    0.30    0.00        0.00   \n",
       "4         -73.985352       ...            0.5    0.30   10.96        0.00   \n",
       "\n",
       "   total_amount  data_source  pickup_borough  pickup_zip_code  \\\n",
       "0         64.30            Y           Bronx            10466   \n",
       "1         45.81            Y           Bronx            10456   \n",
       "2         56.84            G           Bronx            10460   \n",
       "3         47.30            G           Bronx            10454   \n",
       "4         65.76            G           Bronx            10458   \n",
       "\n",
       "   dropoff_borough dropoff_zip_code  \n",
       "0         Brooklyn          11238\\t  \n",
       "1         Brooklyn          11221\\t  \n",
       "2         Brooklyn          11221\\t  \n",
       "3         Brooklyn          11233\\t  \n",
       "4         Brooklyn          11217\\t  \n",
       "\n",
       "[5 rows x 24 columns]"
      ]
     },
     "execution_count": 16,
     "metadata": {},
     "output_type": "execute_result"
    }
   ],
   "source": [
    "\n",
    "trips.columns = column_names\n",
    "trips.head()\n"
   ]
  }
 ],
 "metadata": {
  "kernelspec": {
   "display_name": "Python 3",
   "language": "python",
   "name": "python3"
  },
  "language_info": {
   "codemirror_mode": {
    "name": "ipython",
    "version": 3
   },
   "file_extension": ".py",
   "mimetype": "text/x-python",
   "name": "python",
   "nbconvert_exporter": "python",
   "pygments_lexer": "ipython3",
   "version": "3.5.2"
  }
 },
 "nbformat": 4,
 "nbformat_minor": 0
}
