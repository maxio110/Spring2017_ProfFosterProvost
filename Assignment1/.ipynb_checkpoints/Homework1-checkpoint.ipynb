{
 "cells": [
  {
   "cell_type": "markdown",
   "metadata": {},
   "source": [
    "# Introduction to Data Science\n",
    "## Homework 1 - A quick tour of Python \n",
    "\n",
    "Student Name: Xiang Wang\n",
    "\n",
    "Student Netid: xw1173\n",
    "\n",
    "***"
   ]
  },
  {
   "cell_type": "markdown",
   "metadata": {},
   "source": [
    "**-2\\. Unzip and rename xaa.gz **"
   ]
  },
  {
   "cell_type": "code",
   "execution_count": 1,
   "metadata": {
    "collapsed": false
   },
   "outputs": [
    {
     "name": "stdout",
     "output_type": "stream",
     "text": [
      "gzip: data/xaa.gz: No such file or directory\r\n"
     ]
    }
   ],
   "source": [
    "!gunzip data/xaa.gz"
   ]
  },
  {
   "cell_type": "markdown",
   "metadata": {},
   "source": [
    "**-1\\. Change the name of file **"
   ]
  },
  {
   "cell_type": "code",
   "execution_count": 2,
   "metadata": {
    "collapsed": false
   },
   "outputs": [
    {
     "name": "stdout",
     "output_type": "stream",
     "text": [
      "mv: cannot stat 'data/xaa': No such file or directory\r\n"
     ]
    }
   ],
   "source": [
    "!mv data/xaa data/part-00001.txt"
   ]
  },
  {
   "cell_type": "markdown",
   "metadata": {},
   "source": [
    "**0\\. Import numpy **"
   ]
  },
  {
   "cell_type": "code",
   "execution_count": 3,
   "metadata": {
    "collapsed": true
   },
   "outputs": [],
   "source": [
    "import numpy as np"
   ]
  },
  {
   "cell_type": "markdown",
   "metadata": {},
   "source": [
    "### Part 1: Finish the hands-on lab from the first class:"
   ]
  },
  {
   "cell_type": "markdown",
   "metadata": {},
   "source": [
    "To exercise your skill with Python, you should complete the following. "
   ]
  },
  {
   "cell_type": "markdown",
   "metadata": {},
   "source": [
    "**1\\. Create one Python list of 5 fruits and another one with 5 colors**"
   ]
  },
  {
   "cell_type": "code",
   "execution_count": 4,
   "metadata": {
    "collapsed": false
   },
   "outputs": [],
   "source": [
    "fruit = ['apple', 'pear', 'banana', 'peach', 'pineapple']\n",
    "color = ['red', 'white', 'yellow', 'pink','brown']"
   ]
  },
  {
   "cell_type": "markdown",
   "metadata": {},
   "source": [
    "**2\\. Go through each fruit (first list) and print out the name of the fruit with one color of the second list **\n",
    "\n",
    "(don't worry, it doesn't have to be the color of the fruit!)\n",
    "\n",
    "Example of what you should print:  _apple is purple_"
   ]
  },
  {
   "cell_type": "code",
   "execution_count": 5,
   "metadata": {
    "collapsed": false
   },
   "outputs": [
    {
     "name": "stdout",
     "output_type": "stream",
     "text": [
      "apple is red\n",
      "pear is white\n",
      "banana is yellow\n"
     ]
    }
   ],
   "source": [
    "for i in range(0, 3):\n",
    "    print(fruit[i] + ' is ' + color[i])"
   ]
  },
  {
   "cell_type": "markdown",
   "metadata": {},
   "source": [
    "**3\\. Add two new fruits to your list with a _BUILT-IN_ function **\n",
    "\n",
    "( Look for the function with the **TAB** hint! )"
   ]
  },
  {
   "cell_type": "code",
   "execution_count": 6,
   "metadata": {
    "collapsed": false
   },
   "outputs": [],
   "source": [
    "fruit.append('orange')\n",
    "fruit.append('watermelon')"
   ]
  },
  {
   "cell_type": "markdown",
   "metadata": {},
   "source": [
    "**4\\. Use the list of fruits and sort the names (put them in alphabetical order) **\n",
    "\n",
    "( Hint: Numpy has a great function for that!)"
   ]
  },
  {
   "cell_type": "code",
   "execution_count": 7,
   "metadata": {
    "collapsed": false
   },
   "outputs": [
    {
     "data": {
      "text/plain": [
       "array(['apple', 'banana', 'orange', 'peach', 'pear', 'pineapple',\n",
       "       'watermelon'], \n",
       "      dtype='<U10')"
      ]
     },
     "execution_count": 7,
     "metadata": {},
     "output_type": "execute_result"
    }
   ],
   "source": [
    "np.sort(fruit)"
   ]
  },
  {
   "cell_type": "markdown",
   "metadata": {},
   "source": [
    "**5\\. Create a new empty list called \"count_letters\". Go through your list of fruits, and for each one, add an entry to that new list (count_letters) telling the number of letters each fruit name.**\n",
    "\n",
    "Example of what you should print: _apple is 5 letters_\n"
   ]
  },
  {
   "cell_type": "code",
   "execution_count": 8,
   "metadata": {
    "collapsed": false
   },
   "outputs": [
    {
     "name": "stdout",
     "output_type": "stream",
     "text": [
      "[5, 4, 6, 5, 9, 6, 10]\n"
     ]
    }
   ],
   "source": [
    "count_letters = []\n",
    "for f in fruit:\n",
    "    count_letters.append(len(f))\n",
    "print(count_letters)"
   ]
  },
  {
   "cell_type": "markdown",
   "metadata": {},
   "source": [
    "** 6\\. Make a function called `one_more_change` that takes a list (input_list) and returns a new list (output_list) where each element of the original will be increased by 1 and divided by 2. **"
   ]
  },
  {
   "cell_type": "code",
   "execution_count": 9,
   "metadata": {
    "collapsed": true
   },
   "outputs": [],
   "source": [
    "def one_more(input_list):\n",
    "    output_list = []\n",
    "    for i in input_list:\n",
    "        output_list.append((i + 1) / 2)\n",
    "    return output_list"
   ]
  },
  {
   "cell_type": "markdown",
   "metadata": {},
   "source": [
    "** 7\\. Use the previous function to change the value of a list of 10 random numbers. **"
   ]
  },
  {
   "cell_type": "code",
   "execution_count": 10,
   "metadata": {
    "collapsed": false
   },
   "outputs": [
    {
     "name": "stdout",
     "output_type": "stream",
     "text": [
      "[2.0, 2.5, 1.0, 1.5, 3.0, 3.5, 4.0, 4.5, 5.0, 5.5]\n"
     ]
    }
   ],
   "source": [
    "test = [3,4,1,2,5,6,7,8,9,10]\n",
    "print(one_more(test))"
   ]
  },
  {
   "cell_type": "markdown",
   "metadata": {},
   "source": [
    "### Part 2: Pandas' DataFrame"
   ]
  },
  {
   "cell_type": "markdown",
   "metadata": {},
   "source": [
    "With this notebook, you will also find a file called: part-0001. This file is a **CSV** file that corresponds to trips in Yellow cabs (in NYC). Your goal is to **read** the file using dataframes, put the data in a variable called _\"trips\"_ and then try to answer the following questions:\n",
    "        \n",
    "   1. **How many records does this file have?**\n",
    "   \n",
    "   2. **Take a _random sample_ of 20 elements and try finding a pattern on the dropoffs' variables and the date-times**\n",
    "   (display here your sample and explain the patterns that you found)\n",
    "   \n",
    "   3. **What is the type of each column? All of them are strings? Integers? Display the type of each one**.\n",
    "   \n",
    "       \n",
    "       \n",
    "*** \n",
    "\n",
    "**Hints:**\n",
    "\n",
    "- Use the pandas library to open the file (remember to click on: Shift + Tab 4 times in the library 'pd' to look for functions or with the variable _trips_)\n",
    "- This file does not have name of columns, so you will need to use \"header=None\" in your function! But don't worry, I am including here the name of columns (in a list called column_names).\n"
   ]
  },
  {
   "cell_type": "code",
   "execution_count": 11,
   "metadata": {
    "collapsed": true
   },
   "outputs": [],
   "source": [
    "import pandas as pd"
   ]
  },
  {
   "cell_type": "markdown",
   "metadata": {},
   "source": [
    "Not sure about the warning on \"Columns (21,23) have mixed types\", even if I do not use low_memory=False, the answer in Question 3 is not affected at all"
   ]
  },
  {
   "cell_type": "code",
   "execution_count": 19,
   "metadata": {
    "collapsed": false,
    "scrolled": true
   },
   "outputs": [
    {
     "name": "stderr",
     "output_type": "stream",
     "text": [
      "/usr/local/lib/python3.5/dist-packages/IPython/core/interactiveshell.py:2717: DtypeWarning: Columns (21,23) have mixed types. Specify dtype option on import or set low_memory=False.\n",
      "  interactivity=interactivity, compiler=compiler, result=result)\n"
     ]
    },
    {
     "data": {
      "text/html": [
       "<div>\n",
       "<table border=\"1\" class=\"dataframe\">\n",
       "  <thead>\n",
       "    <tr style=\"text-align: right;\">\n",
       "      <th></th>\n",
       "      <th>flag1</th>\n",
       "      <th>pickup_datetime</th>\n",
       "      <th>dropoff_datetime</th>\n",
       "      <th>passenger_count</th>\n",
       "      <th>trip_distance</th>\n",
       "      <th>pickup_longitude</th>\n",
       "      <th>pickup_latitude</th>\n",
       "      <th>flag2</th>\n",
       "      <th>flag3</th>\n",
       "      <th>dropoff_longitude</th>\n",
       "      <th>...</th>\n",
       "      <th>extra2</th>\n",
       "      <th>extra3</th>\n",
       "      <th>extra4</th>\n",
       "      <th>tip_amount</th>\n",
       "      <th>total_amount</th>\n",
       "      <th>data_source</th>\n",
       "      <th>pickup_borough</th>\n",
       "      <th>pickup_zip_code</th>\n",
       "      <th>dropoff_borough</th>\n",
       "      <th>dropoff_zip_code</th>\n",
       "    </tr>\n",
       "  </thead>\n",
       "  <tbody>\n",
       "    <tr>\n",
       "      <th>0</th>\n",
       "      <td>1</td>\n",
       "      <td>2015-03-07 05:04:29</td>\n",
       "      <td>2015-03-07 05:46:50</td>\n",
       "      <td>1</td>\n",
       "      <td>22.60</td>\n",
       "      <td>-73.861183</td>\n",
       "      <td>40.894665</td>\n",
       "      <td>1</td>\n",
       "      <td>N</td>\n",
       "      <td>-73.961784</td>\n",
       "      <td>...</td>\n",
       "      <td>0.5</td>\n",
       "      <td>0.00</td>\n",
       "      <td>0.00</td>\n",
       "      <td>0.30</td>\n",
       "      <td>64.30</td>\n",
       "      <td>Y</td>\n",
       "      <td>Bronx</td>\n",
       "      <td>10466</td>\n",
       "      <td>Brooklyn</td>\n",
       "      <td>11238\\t</td>\n",
       "    </tr>\n",
       "    <tr>\n",
       "      <th>1</th>\n",
       "      <td>1</td>\n",
       "      <td>2015-03-01 02:49:59</td>\n",
       "      <td>2015-03-01 03:29:30</td>\n",
       "      <td>2</td>\n",
       "      <td>15.00</td>\n",
       "      <td>-73.917053</td>\n",
       "      <td>40.829521</td>\n",
       "      <td>1</td>\n",
       "      <td>N</td>\n",
       "      <td>-73.919952</td>\n",
       "      <td>...</td>\n",
       "      <td>0.5</td>\n",
       "      <td>0.01</td>\n",
       "      <td>0.00</td>\n",
       "      <td>0.30</td>\n",
       "      <td>45.81</td>\n",
       "      <td>Y</td>\n",
       "      <td>Bronx</td>\n",
       "      <td>10456</td>\n",
       "      <td>Brooklyn</td>\n",
       "      <td>11221\\t</td>\n",
       "    </tr>\n",
       "    <tr>\n",
       "      <th>2</th>\n",
       "      <td>2</td>\n",
       "      <td>2015-03-29 08:37:45</td>\n",
       "      <td>2015-03-29 09:10:21</td>\n",
       "      <td>1</td>\n",
       "      <td>15.50</td>\n",
       "      <td>-73.886444</td>\n",
       "      <td>40.834187</td>\n",
       "      <td>1</td>\n",
       "      <td>N</td>\n",
       "      <td>-73.927361</td>\n",
       "      <td>...</td>\n",
       "      <td>0.5</td>\n",
       "      <td>0.30</td>\n",
       "      <td>5.00</td>\n",
       "      <td>5.54</td>\n",
       "      <td>56.84</td>\n",
       "      <td>G</td>\n",
       "      <td>Bronx</td>\n",
       "      <td>10460</td>\n",
       "      <td>Brooklyn</td>\n",
       "      <td>11221\\t</td>\n",
       "    </tr>\n",
       "    <tr>\n",
       "      <th>3</th>\n",
       "      <td>2</td>\n",
       "      <td>2015-03-02 00:44:05</td>\n",
       "      <td>2015-03-02 01:18:40</td>\n",
       "      <td>1</td>\n",
       "      <td>16.69</td>\n",
       "      <td>-73.919388</td>\n",
       "      <td>40.807316</td>\n",
       "      <td>1</td>\n",
       "      <td>N</td>\n",
       "      <td>-73.920135</td>\n",
       "      <td>...</td>\n",
       "      <td>0.5</td>\n",
       "      <td>0.30</td>\n",
       "      <td>0.00</td>\n",
       "      <td>0.00</td>\n",
       "      <td>47.30</td>\n",
       "      <td>G</td>\n",
       "      <td>Bronx</td>\n",
       "      <td>10454</td>\n",
       "      <td>Brooklyn</td>\n",
       "      <td>11233\\t</td>\n",
       "    </tr>\n",
       "    <tr>\n",
       "      <th>4</th>\n",
       "      <td>2</td>\n",
       "      <td>2015-03-12 22:50:09</td>\n",
       "      <td>2015-03-12 23:34:50</td>\n",
       "      <td>6</td>\n",
       "      <td>18.59</td>\n",
       "      <td>-73.888283</td>\n",
       "      <td>40.853603</td>\n",
       "      <td>1</td>\n",
       "      <td>N</td>\n",
       "      <td>-73.985352</td>\n",
       "      <td>...</td>\n",
       "      <td>0.5</td>\n",
       "      <td>0.30</td>\n",
       "      <td>10.96</td>\n",
       "      <td>0.00</td>\n",
       "      <td>65.76</td>\n",
       "      <td>G</td>\n",
       "      <td>Bronx</td>\n",
       "      <td>10458</td>\n",
       "      <td>Brooklyn</td>\n",
       "      <td>11217\\t</td>\n",
       "    </tr>\n",
       "  </tbody>\n",
       "</table>\n",
       "<p>5 rows × 24 columns</p>\n",
       "</div>"
      ],
      "text/plain": [
       "   flag1      pickup_datetime     dropoff_datetime  passenger_count  \\\n",
       "0      1  2015-03-07 05:04:29  2015-03-07 05:46:50                1   \n",
       "1      1  2015-03-01 02:49:59  2015-03-01 03:29:30                2   \n",
       "2      2  2015-03-29 08:37:45  2015-03-29 09:10:21                1   \n",
       "3      2  2015-03-02 00:44:05  2015-03-02 01:18:40                1   \n",
       "4      2  2015-03-12 22:50:09  2015-03-12 23:34:50                6   \n",
       "\n",
       "   trip_distance  pickup_longitude  pickup_latitude  flag2 flag3  \\\n",
       "0          22.60        -73.861183        40.894665      1     N   \n",
       "1          15.00        -73.917053        40.829521      1     N   \n",
       "2          15.50        -73.886444        40.834187      1     N   \n",
       "3          16.69        -73.919388        40.807316      1     N   \n",
       "4          18.59        -73.888283        40.853603      1     N   \n",
       "\n",
       "   dropoff_longitude       ...         extra2  extra3  extra4  tip_amount  \\\n",
       "0         -73.961784       ...            0.5    0.00    0.00        0.30   \n",
       "1         -73.919952       ...            0.5    0.01    0.00        0.30   \n",
       "2         -73.927361       ...            0.5    0.30    5.00        5.54   \n",
       "3         -73.920135       ...            0.5    0.30    0.00        0.00   \n",
       "4         -73.985352       ...            0.5    0.30   10.96        0.00   \n",
       "\n",
       "   total_amount  data_source  pickup_borough  pickup_zip_code  \\\n",
       "0         64.30            Y           Bronx            10466   \n",
       "1         45.81            Y           Bronx            10456   \n",
       "2         56.84            G           Bronx            10460   \n",
       "3         47.30            G           Bronx            10454   \n",
       "4         65.76            G           Bronx            10458   \n",
       "\n",
       "   dropoff_borough dropoff_zip_code  \n",
       "0         Brooklyn          11238\\t  \n",
       "1         Brooklyn          11221\\t  \n",
       "2         Brooklyn          11221\\t  \n",
       "3         Brooklyn          11233\\t  \n",
       "4         Brooklyn          11217\\t  \n",
       "\n",
       "[5 rows x 24 columns]"
      ]
     },
     "execution_count": 19,
     "metadata": {},
     "output_type": "execute_result"
    }
   ],
   "source": [
    "\n",
    "column_names = ['flag1','pickup_datetime','dropoff_datetime','passenger_count','trip_distance',\n",
    " 'pickup_longitude','pickup_latitude','flag2','flag3','dropoff_longitude','dropoff_latitude',\n",
    " 'payment_type','trip_amount','extra1','extra2','extra3','extra4','tip_amount','total_amount',\n",
    "'data_source','pickup_borough','pickup_zip_code','dropoff_borough','dropoff_zip_code']\n",
    "\n",
    "trips = pd.read_csv('data/part-00001.txt', header=None) # low_memory=False ?\n",
    "trips.columns = column_names\n",
    "column_names\n",
    "trips.head()\n"
   ]
  },
  {
   "cell_type": "markdown",
   "metadata": {},
   "source": [
    "** Question 1: **"
   ]
  },
  {
   "cell_type": "code",
   "execution_count": 13,
   "metadata": {
    "collapsed": false
   },
   "outputs": [
    {
     "data": {
      "text/plain": [
       "500000"
      ]
     },
     "execution_count": 13,
     "metadata": {},
     "output_type": "execute_result"
    }
   ],
   "source": [
    "## Question 1: Answers and code here! \n",
    "trips_size = len(trips)\n",
    "trips_size"
   ]
  },
  {
   "cell_type": "markdown",
   "metadata": {},
   "source": [
    "** Question 2: **\n",
    "___\n",
    "By randomly selecting 20 rows and filter out columns related to *dropoff*, I find that it seems :\n",
    "1. dropoff borough is always Brooklyn\n",
    "2. the longitude/latitude/zipcode are also related to Brooklyn. "
   ]
  },
  {
   "cell_type": "code",
   "execution_count": 14,
   "metadata": {
    "collapsed": false
   },
   "outputs": [
    {
     "data": {
      "text/html": [
       "<div>\n",
       "<table border=\"1\" class=\"dataframe\">\n",
       "  <thead>\n",
       "    <tr style=\"text-align: right;\">\n",
       "      <th></th>\n",
       "      <th>dropoff_datetime</th>\n",
       "      <th>dropoff_longitude</th>\n",
       "      <th>dropoff_latitude</th>\n",
       "      <th>dropoff_borough</th>\n",
       "      <th>dropoff_zip_code</th>\n",
       "    </tr>\n",
       "  </thead>\n",
       "  <tbody>\n",
       "    <tr>\n",
       "      <th>181534</th>\n",
       "      <td>2015-03-22 23:08:48</td>\n",
       "      <td>-73.967964</td>\n",
       "      <td>40.680122</td>\n",
       "      <td>Brooklyn</td>\n",
       "      <td>11238\\t</td>\n",
       "    </tr>\n",
       "    <tr>\n",
       "      <th>222150</th>\n",
       "      <td>2015-03-09 00:39:12</td>\n",
       "      <td>-73.963112</td>\n",
       "      <td>40.672001</td>\n",
       "      <td>Brooklyn</td>\n",
       "      <td>11238\\t</td>\n",
       "    </tr>\n",
       "    <tr>\n",
       "      <th>77815</th>\n",
       "      <td>2015-03-04 21:54:26</td>\n",
       "      <td>-73.996170</td>\n",
       "      <td>40.684277</td>\n",
       "      <td>Brooklyn</td>\n",
       "      <td>11231\\t</td>\n",
       "    </tr>\n",
       "    <tr>\n",
       "      <th>147086</th>\n",
       "      <td>2015-03-17 00:58:37</td>\n",
       "      <td>-73.942680</td>\n",
       "      <td>40.687946</td>\n",
       "      <td>Brooklyn</td>\n",
       "      <td>11221\\t</td>\n",
       "    </tr>\n",
       "    <tr>\n",
       "      <th>134925</th>\n",
       "      <td>2015-03-20 10:31:59</td>\n",
       "      <td>-73.954239</td>\n",
       "      <td>40.703930</td>\n",
       "      <td>Brooklyn</td>\n",
       "      <td>11211\\t</td>\n",
       "    </tr>\n",
       "    <tr>\n",
       "      <th>178574</th>\n",
       "      <td>2015-03-16 14:13:53</td>\n",
       "      <td>-73.974693</td>\n",
       "      <td>40.698006</td>\n",
       "      <td>Brooklyn</td>\n",
       "      <td>11251\\t</td>\n",
       "    </tr>\n",
       "    <tr>\n",
       "      <th>65404</th>\n",
       "      <td>2015-03-30 02:42:27</td>\n",
       "      <td>-73.951698</td>\n",
       "      <td>40.714970</td>\n",
       "      <td>Brooklyn</td>\n",
       "      <td>11211\\t</td>\n",
       "    </tr>\n",
       "    <tr>\n",
       "      <th>13078</th>\n",
       "      <td>2015-03-28 23:13:19</td>\n",
       "      <td>-73.995651</td>\n",
       "      <td>40.695278</td>\n",
       "      <td>Brooklyn</td>\n",
       "      <td>11201\\t</td>\n",
       "    </tr>\n",
       "    <tr>\n",
       "      <th>487102</th>\n",
       "      <td>2015-03-14 08:29:24</td>\n",
       "      <td>-73.942001</td>\n",
       "      <td>40.727619</td>\n",
       "      <td>Brooklyn</td>\n",
       "      <td>11222\\t</td>\n",
       "    </tr>\n",
       "    <tr>\n",
       "      <th>33480</th>\n",
       "      <td>2015-03-27 02:42:07</td>\n",
       "      <td>-73.934303</td>\n",
       "      <td>40.669918</td>\n",
       "      <td>Brooklyn</td>\n",
       "      <td>11213\\t</td>\n",
       "    </tr>\n",
       "    <tr>\n",
       "      <th>339887</th>\n",
       "      <td>2015-03-19 00:33:40</td>\n",
       "      <td>-73.928940</td>\n",
       "      <td>40.661060</td>\n",
       "      <td>Brooklyn</td>\n",
       "      <td>11212\\t</td>\n",
       "    </tr>\n",
       "    <tr>\n",
       "      <th>42995</th>\n",
       "      <td>2015-03-21 00:50:12</td>\n",
       "      <td>-73.942200</td>\n",
       "      <td>40.719082</td>\n",
       "      <td>Brooklyn</td>\n",
       "      <td>11222\\t</td>\n",
       "    </tr>\n",
       "    <tr>\n",
       "      <th>164205</th>\n",
       "      <td>2015-03-03 21:54:09</td>\n",
       "      <td>-73.957062</td>\n",
       "      <td>40.613209</td>\n",
       "      <td>Brooklyn</td>\n",
       "      <td>11230\\t</td>\n",
       "    </tr>\n",
       "    <tr>\n",
       "      <th>402915</th>\n",
       "      <td>2015-03-31 20:15:48</td>\n",
       "      <td>-74.001572</td>\n",
       "      <td>40.683289</td>\n",
       "      <td>Brooklyn</td>\n",
       "      <td>11231\\t</td>\n",
       "    </tr>\n",
       "    <tr>\n",
       "      <th>418603</th>\n",
       "      <td>2015-03-08 23:27:59</td>\n",
       "      <td>-73.942696</td>\n",
       "      <td>40.702332</td>\n",
       "      <td>Brooklyn</td>\n",
       "      <td>11206\\t</td>\n",
       "    </tr>\n",
       "    <tr>\n",
       "      <th>115146</th>\n",
       "      <td>2015-03-14 04:56:46</td>\n",
       "      <td>-74.024239</td>\n",
       "      <td>40.617184</td>\n",
       "      <td>Brooklyn</td>\n",
       "      <td>11228\\t</td>\n",
       "    </tr>\n",
       "    <tr>\n",
       "      <th>410481</th>\n",
       "      <td>2015-03-29 04:45:59</td>\n",
       "      <td>-73.982208</td>\n",
       "      <td>40.698399</td>\n",
       "      <td>Brooklyn</td>\n",
       "      <td>11201\\t</td>\n",
       "    </tr>\n",
       "    <tr>\n",
       "      <th>306670</th>\n",
       "      <td>2015-03-13 16:48:43</td>\n",
       "      <td>-73.978752</td>\n",
       "      <td>40.685787</td>\n",
       "      <td>Brooklyn</td>\n",
       "      <td>11217\\t</td>\n",
       "    </tr>\n",
       "    <tr>\n",
       "      <th>372622</th>\n",
       "      <td>2015-03-12 21:20:04</td>\n",
       "      <td>-73.943901</td>\n",
       "      <td>40.711842</td>\n",
       "      <td>Brooklyn</td>\n",
       "      <td>11211\\t</td>\n",
       "    </tr>\n",
       "    <tr>\n",
       "      <th>450691</th>\n",
       "      <td>2015-03-19 21:03:12</td>\n",
       "      <td>-73.980324</td>\n",
       "      <td>40.672325</td>\n",
       "      <td>Brooklyn</td>\n",
       "      <td>11215\\t</td>\n",
       "    </tr>\n",
       "  </tbody>\n",
       "</table>\n",
       "</div>"
      ],
      "text/plain": [
       "           dropoff_datetime  dropoff_longitude  dropoff_latitude  \\\n",
       "181534  2015-03-22 23:08:48         -73.967964         40.680122   \n",
       "222150  2015-03-09 00:39:12         -73.963112         40.672001   \n",
       "77815   2015-03-04 21:54:26         -73.996170         40.684277   \n",
       "147086  2015-03-17 00:58:37         -73.942680         40.687946   \n",
       "134925  2015-03-20 10:31:59         -73.954239         40.703930   \n",
       "178574  2015-03-16 14:13:53         -73.974693         40.698006   \n",
       "65404   2015-03-30 02:42:27         -73.951698         40.714970   \n",
       "13078   2015-03-28 23:13:19         -73.995651         40.695278   \n",
       "487102  2015-03-14 08:29:24         -73.942001         40.727619   \n",
       "33480   2015-03-27 02:42:07         -73.934303         40.669918   \n",
       "339887  2015-03-19 00:33:40         -73.928940         40.661060   \n",
       "42995   2015-03-21 00:50:12         -73.942200         40.719082   \n",
       "164205  2015-03-03 21:54:09         -73.957062         40.613209   \n",
       "402915  2015-03-31 20:15:48         -74.001572         40.683289   \n",
       "418603  2015-03-08 23:27:59         -73.942696         40.702332   \n",
       "115146  2015-03-14 04:56:46         -74.024239         40.617184   \n",
       "410481  2015-03-29 04:45:59         -73.982208         40.698399   \n",
       "306670  2015-03-13 16:48:43         -73.978752         40.685787   \n",
       "372622  2015-03-12 21:20:04         -73.943901         40.711842   \n",
       "450691  2015-03-19 21:03:12         -73.980324         40.672325   \n",
       "\n",
       "       dropoff_borough dropoff_zip_code  \n",
       "181534        Brooklyn          11238\\t  \n",
       "222150        Brooklyn          11238\\t  \n",
       "77815         Brooklyn          11231\\t  \n",
       "147086        Brooklyn          11221\\t  \n",
       "134925        Brooklyn          11211\\t  \n",
       "178574        Brooklyn          11251\\t  \n",
       "65404         Brooklyn          11211\\t  \n",
       "13078         Brooklyn          11201\\t  \n",
       "487102        Brooklyn          11222\\t  \n",
       "33480         Brooklyn          11213\\t  \n",
       "339887        Brooklyn          11212\\t  \n",
       "42995         Brooklyn          11222\\t  \n",
       "164205        Brooklyn          11230\\t  \n",
       "402915        Brooklyn          11231\\t  \n",
       "418603        Brooklyn          11206\\t  \n",
       "115146        Brooklyn          11228\\t  \n",
       "410481        Brooklyn          11201\\t  \n",
       "306670        Brooklyn          11217\\t  \n",
       "372622        Brooklyn          11211\\t  \n",
       "450691        Brooklyn          11215\\t  "
      ]
     },
     "execution_count": 14,
     "metadata": {},
     "output_type": "execute_result"
    }
   ],
   "source": [
    "## Question 2: Answers and code here! \n",
    "import random\n",
    "dfs = []\n",
    "#dropoff_cols = [col for col in df.columns if 'dropoff' in col]\n",
    "for i in range(20):\n",
    "    df = trips.iloc[[random.randint(0, trips_size)]]\n",
    "    dfs.append(df)\n",
    "pd.concat(dfs).filter(like='dropoff')"
   ]
  },
  {
   "cell_type": "markdown",
   "metadata": {},
   "source": [
    "Still I select out distinct dropoff borough and prove the conclusion 1"
   ]
  },
  {
   "cell_type": "code",
   "execution_count": 15,
   "metadata": {
    "collapsed": false
   },
   "outputs": [
    {
     "data": {
      "text/html": [
       "<div>\n",
       "<table border=\"1\" class=\"dataframe\">\n",
       "  <thead>\n",
       "    <tr style=\"text-align: right;\">\n",
       "      <th></th>\n",
       "      <th>dropoff_borough</th>\n",
       "    </tr>\n",
       "  </thead>\n",
       "  <tbody>\n",
       "    <tr>\n",
       "      <th>0</th>\n",
       "      <td>Brooklyn</td>\n",
       "    </tr>\n",
       "  </tbody>\n",
       "</table>\n",
       "</div>"
      ],
      "text/plain": [
       "  dropoff_borough\n",
       "0        Brooklyn"
      ]
     },
     "execution_count": 15,
     "metadata": {},
     "output_type": "execute_result"
    }
   ],
   "source": [
    "trips[['dropoff_borough']].drop_duplicates()"
   ]
  },
  {
   "cell_type": "markdown",
   "metadata": {},
   "source": [
    "** Question 3: **\n",
    "___\n",
    "Iterate each row and check the type for each element:"
   ]
  },
  {
   "cell_type": "code",
   "execution_count": 16,
   "metadata": {
    "collapsed": false,
    "scrolled": true
   },
   "outputs": [
    {
     "data": {
      "text/plain": [
       "{'data_source': {str},\n",
       " 'dropoff_borough': {str},\n",
       " 'dropoff_datetime': {str},\n",
       " 'dropoff_latitude': {float},\n",
       " 'dropoff_longitude': {float},\n",
       " 'dropoff_zip_code': {str},\n",
       " 'extra1': {float},\n",
       " 'extra2': {float},\n",
       " 'extra3': {float},\n",
       " 'extra4': {float},\n",
       " 'flag1': {int},\n",
       " 'flag2': {int},\n",
       " 'flag3': {str},\n",
       " 'passenger_count': {int},\n",
       " 'payment_type': {int},\n",
       " 'pickup_borough': {str},\n",
       " 'pickup_datetime': {str},\n",
       " 'pickup_latitude': {float},\n",
       " 'pickup_longitude': {float},\n",
       " 'pickup_zip_code': {str},\n",
       " 'tip_amount': {float},\n",
       " 'total_amount': {float},\n",
       " 'trip_amount': {float},\n",
       " 'trip_distance': {float}}"
      ]
     },
     "execution_count": 16,
     "metadata": {},
     "output_type": "execute_result"
    }
   ],
   "source": [
    "## Question 3: Answers and code here! \n",
    "types = {}\n",
    "for name in column_names:\n",
    "    types[name] = set()\n",
    "for index, row in df.iterrows():\n",
    "    for name in column_names:\n",
    "        types[name].add(type(row[name]))\n",
    "types"
   ]
  },
  {
   "cell_type": "markdown",
   "metadata": {},
   "source": [
    "This is how the dataframe should look:"
   ]
  },
  {
   "cell_type": "code",
   "execution_count": 17,
   "metadata": {
    "collapsed": false
   },
   "outputs": [
    {
     "data": {
      "text/html": [
       "<div>\n",
       "<table border=\"1\" class=\"dataframe\">\n",
       "  <thead>\n",
       "    <tr style=\"text-align: right;\">\n",
       "      <th></th>\n",
       "      <th>flag1</th>\n",
       "      <th>pickup_datetime</th>\n",
       "      <th>dropoff_datetime</th>\n",
       "      <th>passenger_count</th>\n",
       "      <th>trip_distance</th>\n",
       "      <th>pickup_longitude</th>\n",
       "      <th>pickup_latitude</th>\n",
       "      <th>flag2</th>\n",
       "      <th>flag3</th>\n",
       "      <th>dropoff_longitude</th>\n",
       "      <th>...</th>\n",
       "      <th>extra2</th>\n",
       "      <th>extra3</th>\n",
       "      <th>extra4</th>\n",
       "      <th>tip_amount</th>\n",
       "      <th>total_amount</th>\n",
       "      <th>data_source</th>\n",
       "      <th>pickup_borough</th>\n",
       "      <th>pickup_zip_code</th>\n",
       "      <th>dropoff_borough</th>\n",
       "      <th>dropoff_zip_code</th>\n",
       "    </tr>\n",
       "  </thead>\n",
       "  <tbody>\n",
       "    <tr>\n",
       "      <th>0</th>\n",
       "      <td>1</td>\n",
       "      <td>2015-03-07 05:04:29</td>\n",
       "      <td>2015-03-07 05:46:50</td>\n",
       "      <td>1</td>\n",
       "      <td>22.60</td>\n",
       "      <td>-73.861183</td>\n",
       "      <td>40.894665</td>\n",
       "      <td>1</td>\n",
       "      <td>N</td>\n",
       "      <td>-73.961784</td>\n",
       "      <td>...</td>\n",
       "      <td>0.5</td>\n",
       "      <td>0.00</td>\n",
       "      <td>0.00</td>\n",
       "      <td>0.30</td>\n",
       "      <td>64.30</td>\n",
       "      <td>Y</td>\n",
       "      <td>Bronx</td>\n",
       "      <td>10466</td>\n",
       "      <td>Brooklyn</td>\n",
       "      <td>11238\\t</td>\n",
       "    </tr>\n",
       "    <tr>\n",
       "      <th>1</th>\n",
       "      <td>1</td>\n",
       "      <td>2015-03-01 02:49:59</td>\n",
       "      <td>2015-03-01 03:29:30</td>\n",
       "      <td>2</td>\n",
       "      <td>15.00</td>\n",
       "      <td>-73.917053</td>\n",
       "      <td>40.829521</td>\n",
       "      <td>1</td>\n",
       "      <td>N</td>\n",
       "      <td>-73.919952</td>\n",
       "      <td>...</td>\n",
       "      <td>0.5</td>\n",
       "      <td>0.01</td>\n",
       "      <td>0.00</td>\n",
       "      <td>0.30</td>\n",
       "      <td>45.81</td>\n",
       "      <td>Y</td>\n",
       "      <td>Bronx</td>\n",
       "      <td>10456</td>\n",
       "      <td>Brooklyn</td>\n",
       "      <td>11221\\t</td>\n",
       "    </tr>\n",
       "    <tr>\n",
       "      <th>2</th>\n",
       "      <td>2</td>\n",
       "      <td>2015-03-29 08:37:45</td>\n",
       "      <td>2015-03-29 09:10:21</td>\n",
       "      <td>1</td>\n",
       "      <td>15.50</td>\n",
       "      <td>-73.886444</td>\n",
       "      <td>40.834187</td>\n",
       "      <td>1</td>\n",
       "      <td>N</td>\n",
       "      <td>-73.927361</td>\n",
       "      <td>...</td>\n",
       "      <td>0.5</td>\n",
       "      <td>0.30</td>\n",
       "      <td>5.00</td>\n",
       "      <td>5.54</td>\n",
       "      <td>56.84</td>\n",
       "      <td>G</td>\n",
       "      <td>Bronx</td>\n",
       "      <td>10460</td>\n",
       "      <td>Brooklyn</td>\n",
       "      <td>11221\\t</td>\n",
       "    </tr>\n",
       "    <tr>\n",
       "      <th>3</th>\n",
       "      <td>2</td>\n",
       "      <td>2015-03-02 00:44:05</td>\n",
       "      <td>2015-03-02 01:18:40</td>\n",
       "      <td>1</td>\n",
       "      <td>16.69</td>\n",
       "      <td>-73.919388</td>\n",
       "      <td>40.807316</td>\n",
       "      <td>1</td>\n",
       "      <td>N</td>\n",
       "      <td>-73.920135</td>\n",
       "      <td>...</td>\n",
       "      <td>0.5</td>\n",
       "      <td>0.30</td>\n",
       "      <td>0.00</td>\n",
       "      <td>0.00</td>\n",
       "      <td>47.30</td>\n",
       "      <td>G</td>\n",
       "      <td>Bronx</td>\n",
       "      <td>10454</td>\n",
       "      <td>Brooklyn</td>\n",
       "      <td>11233\\t</td>\n",
       "    </tr>\n",
       "    <tr>\n",
       "      <th>4</th>\n",
       "      <td>2</td>\n",
       "      <td>2015-03-12 22:50:09</td>\n",
       "      <td>2015-03-12 23:34:50</td>\n",
       "      <td>6</td>\n",
       "      <td>18.59</td>\n",
       "      <td>-73.888283</td>\n",
       "      <td>40.853603</td>\n",
       "      <td>1</td>\n",
       "      <td>N</td>\n",
       "      <td>-73.985352</td>\n",
       "      <td>...</td>\n",
       "      <td>0.5</td>\n",
       "      <td>0.30</td>\n",
       "      <td>10.96</td>\n",
       "      <td>0.00</td>\n",
       "      <td>65.76</td>\n",
       "      <td>G</td>\n",
       "      <td>Bronx</td>\n",
       "      <td>10458</td>\n",
       "      <td>Brooklyn</td>\n",
       "      <td>11217\\t</td>\n",
       "    </tr>\n",
       "  </tbody>\n",
       "</table>\n",
       "<p>5 rows × 24 columns</p>\n",
       "</div>"
      ],
      "text/plain": [
       "   flag1      pickup_datetime     dropoff_datetime  passenger_count  \\\n",
       "0      1  2015-03-07 05:04:29  2015-03-07 05:46:50                1   \n",
       "1      1  2015-03-01 02:49:59  2015-03-01 03:29:30                2   \n",
       "2      2  2015-03-29 08:37:45  2015-03-29 09:10:21                1   \n",
       "3      2  2015-03-02 00:44:05  2015-03-02 01:18:40                1   \n",
       "4      2  2015-03-12 22:50:09  2015-03-12 23:34:50                6   \n",
       "\n",
       "   trip_distance  pickup_longitude  pickup_latitude  flag2 flag3  \\\n",
       "0          22.60        -73.861183        40.894665      1     N   \n",
       "1          15.00        -73.917053        40.829521      1     N   \n",
       "2          15.50        -73.886444        40.834187      1     N   \n",
       "3          16.69        -73.919388        40.807316      1     N   \n",
       "4          18.59        -73.888283        40.853603      1     N   \n",
       "\n",
       "   dropoff_longitude       ...         extra2  extra3  extra4  tip_amount  \\\n",
       "0         -73.961784       ...            0.5    0.00    0.00        0.30   \n",
       "1         -73.919952       ...            0.5    0.01    0.00        0.30   \n",
       "2         -73.927361       ...            0.5    0.30    5.00        5.54   \n",
       "3         -73.920135       ...            0.5    0.30    0.00        0.00   \n",
       "4         -73.985352       ...            0.5    0.30   10.96        0.00   \n",
       "\n",
       "   total_amount  data_source  pickup_borough  pickup_zip_code  \\\n",
       "0         64.30            Y           Bronx            10466   \n",
       "1         45.81            Y           Bronx            10456   \n",
       "2         56.84            G           Bronx            10460   \n",
       "3         47.30            G           Bronx            10454   \n",
       "4         65.76            G           Bronx            10458   \n",
       "\n",
       "   dropoff_borough dropoff_zip_code  \n",
       "0         Brooklyn          11238\\t  \n",
       "1         Brooklyn          11221\\t  \n",
       "2         Brooklyn          11221\\t  \n",
       "3         Brooklyn          11233\\t  \n",
       "4         Brooklyn          11217\\t  \n",
       "\n",
       "[5 rows x 24 columns]"
      ]
     },
     "execution_count": 17,
     "metadata": {},
     "output_type": "execute_result"
    }
   ],
   "source": [
    "\n",
    "trips.columns = column_names\n",
    "trips.head()\n"
   ]
  }
 ],
 "metadata": {
  "kernelspec": {
   "display_name": "Python 3",
   "language": "python",
   "name": "python3"
  },
  "language_info": {
   "codemirror_mode": {
    "name": "ipython",
    "version": 3
   },
   "file_extension": ".py",
   "mimetype": "text/x-python",
   "name": "python",
   "nbconvert_exporter": "python",
   "pygments_lexer": "ipython3",
   "version": "3.5.2"
  }
 },
 "nbformat": 4,
 "nbformat_minor": 0
}
